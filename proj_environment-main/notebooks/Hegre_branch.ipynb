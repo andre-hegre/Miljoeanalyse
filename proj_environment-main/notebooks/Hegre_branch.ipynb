{
 "cells": [
  {
   "cell_type": "markdown",
   "metadata": {},
   "source": [
    "## Vi kan introdusere uregelmessigheter til dataen ved diverse funksjoner\n",
    "\n",
    "Dataen vi har samlet er nokså fullstendig, og uten feilverdier, men ved bruk av enkelte funksjoner kan vi introdusere noen feil, for så å rette de opp igjen etterpå: "
   ]
  },
  {
   "cell_type": "code",
   "execution_count": 2,
   "metadata": {},
   "outputs": [
    {
     "name": "stdout",
     "output_type": "stream",
     "text": [
      "              referenceTime  \\\n",
      "0  2020-07-01T00:00:00.000Z   \n",
      "1  2020-07-02T00:00:00.000Z   \n",
      "2  2020-07-03T00:00:00.000Z   \n",
      "3  2020-07-04T00:00:00.000Z   \n",
      "4  2020-07-05T00:00:00.000Z   \n",
      "\n",
      "   boolean_clear_sky_weather(cloud_area_fraction P1D)  \\\n",
      "0                                                  0    \n",
      "1                                                  0    \n",
      "2                                                  0    \n",
      "3                                                  0    \n",
      "4                                                  0    \n",
      "\n",
      "   mean(air_temperature P1D)  mean(relative_humidity P1D)  \n",
      "0                      14.10                           66  \n",
      "1                      13.75                           63  \n",
      "2                      12.85                           67  \n",
      "3                      13.20                           63  \n",
      "4                      14.15                           83  \n"
     ]
    }
   ],
   "source": [
    "import pandas as pd\n",
    "import numpy as np\n",
    "\n",
    "df2 = pd.read_json(\"../data/df2_data.json\")\n",
    "print(df2.head())"
   ]
  }
 ],
 "metadata": {
  "kernelspec": {
   "display_name": "venvP",
   "language": "python",
   "name": "python3"
  },
  "language_info": {
   "codemirror_mode": {
    "name": "ipython",
    "version": 3
   },
   "file_extension": ".py",
   "mimetype": "text/x-python",
   "name": "python",
   "nbconvert_exporter": "python",
   "pygments_lexer": "ipython3",
   "version": "3.13.1"
  }
 },
 "nbformat": 4,
 "nbformat_minor": 2
}
