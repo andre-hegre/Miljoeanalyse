{
 "cells": [
  {
   "cell_type": "markdown",
   "metadata": {},
   "source": [
    "## Vi kan introdusere uregelmessigheter til dataen ved diverse funksjoner\n",
    "\n",
    "Dataen vi har samlet er nokså fullstendig, og uten feilverdier, men ved bruk av enkelte funksjoner kan vi introdusere noen feil, for så å rette de opp igjen etterpå: "
   ]
  },
  {
   "cell_type": "code",
   "execution_count": 1,
   "metadata": {},
   "outputs": [
    {
     "name": "stderr",
     "output_type": "stream",
     "text": [
      "/var/folders/v8/s6vl_7bn6fd74pxnx3tdftb80000gn/T/ipykernel_53723/2017829464.py:18: FutureWarning: Setting an item of incompatible dtype is deprecated and will raise an error in a future version of pandas. Value 'error' has dtype incompatible with int64, please explicitly cast to a compatible dtype first.\n",
      "  entry.loc[entry.sample(frac=0.04).index,'boolean_clear_sky_weather(cloud_area_fraction P1D)']= \"error\"\n"
     ]
    }
   ],
   "source": [
    "import pandas as pd\n",
    "import numpy as np\n",
    "\n",
    "df2_errors = pd.read_json(\"../data/df2_data.json\") #leser json filen til \"df2\"\n",
    "\n",
    "# introduserer uregelmessigheter (NaN til omtrent 6% av verdiene)\n",
    "def introduser_NaN(entry):\n",
    "    entry.loc[entry.sample(frac=0.06).index, 'mean(relative_humidity P1D)'] = np.nan \n",
    "    return entry\n",
    "\n",
    "# introduserer enkelte tallverdier på 570, som ikke gir mening (uteliggere)\n",
    "def introduser_uteliggere(entry):\n",
    "    entry.loc[entry.sample(frac=0.04).index, 'mean(air_temperature P1D)'] = 570\n",
    "    return df2_errors\n",
    "\n",
    "#introduserer \"error\" i boolean feltene\n",
    "def introduser_non_boolean(entry):\n",
    "    entry.loc[entry.sample(frac=0.04).index,'boolean_clear_sky_weather(cloud_area_fraction P1D)']= \"error\"\n",
    "    return df2_errors\n",
    "\n",
    "#Kjører funksjonene og lagrer til ny fil\n",
    "nan=introduser_NaN(df2_errors)\n",
    "uteligger=introduser_uteliggere(nan)\n",
    "final_error_file=introduser_non_boolean(uteligger)\n",
    "\n",
    "\n",
    "final_error_file.to_json('../data/df2_errors.json',indent=4)\n",
    "\n",
    "\n",
    "\n",
    "\n",
    "\n"
   ]
  }
 ],
 "metadata": {
  "kernelspec": {
   "display_name": "venvP",
   "language": "python",
   "name": "python3"
  },
  "language_info": {
   "codemirror_mode": {
    "name": "ipython",
    "version": 3
   },
   "file_extension": ".py",
   "mimetype": "text/x-python",
   "name": "python",
   "nbconvert_exporter": "python",
   "pygments_lexer": "ipython3",
   "version": "3.13.1"
  }
 },
 "nbformat": 4,
 "nbformat_minor": 2
}
