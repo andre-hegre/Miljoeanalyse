{
 "cells": [
  {
   "cell_type": "markdown",
   "id": "b4e222e4",
   "metadata": {},
   "source": [
    "## Introduksjon av feil/errors i dataframes og retting av feil/errors\n",
    "\n",
    "Værdataen vi har samlet er komplett, og inneholder ikke uteliggere, feilverdier eller lignende. Luftkvalitetdataen har en god del \"null\" verdier, men ellers er den ryddig også. Vi kan derfor manuelt introdusere diverse feil i datasettene og rette de opp igjen ved bruk av funksjoner fra numpy for eksempel. \n",
    "\n",
    "Vi lagrer de nye datasettene med feil i data folderen, og bruker nye funksjoner til å rette opp i det igjen. Merk at for Værdataen, kommer vi til å bruke den originale dataen (df2_data) til visualisering og prediktiv analyse, mens for luftkvalitetdataen vil vi bruke den rettet opp filen (df1_fikset), ettersom den originale inneholder nullverdier. "
   ]
  },
  {
   "cell_type": "markdown",
   "id": "97afb611",
   "metadata": {},
   "source": [
    "Vi begynner med å introdusere forskjellige typer feilverdier til værdataen (df2_data): "
   ]
  },
  {
   "cell_type": "code",
   "execution_count": 1,
   "id": "5efb0704",
   "metadata": {},
   "outputs": [],
   "source": [
    "import pandas as pd\n",
    "import sys\n",
    "\n",
    "df2_errors = pd.read_json(\"../data/df2_data.json\") #leser json filen \"df2_data\"\n",
    "\n",
    "sys.path.append('../src')\n",
    "from funksjoner import introduser_NaN, introduser_uteliggere #Importerer funksjoner fra \"funksjoner.py i src\"\n",
    "\n",
    "nan = introduser_NaN(df2_errors) #Introduserer numpy NaN verdier\n",
    "uteligger = introduser_uteliggere(nan) #Introduserer uteliggere\n",
    "\n",
    "uteligger.to_json('../data/df2_errors.json', indent=4) #Lagrer den nye dataframe med errors til ny fil \"df2_errors.json\""
   ]
  },
  {
   "cell_type": "markdown",
   "id": "6b409f8b",
   "metadata": {},
   "source": [
    "Nå har vi værdata med manglende verdier og uteliggere, som vi kan så rette opp i ved bruk av diverse teknikker: \n",
    "\n",
    "Vi kan bruke ffill, bfill, median, mean og interpolate til å fikse på manglende verdier, og setter øvre og nedre grenser for å håndtere uteliggere. \n",
    "\n",
    "Under har vi brukt \"mean\" metoden for manglende data og filtrering med øvre og nedre grenser"
   ]
  },
  {
   "cell_type": "code",
   "execution_count": null,
   "id": "5c7602c9",
   "metadata": {},
   "outputs": [],
   "source": [
    "import pandas as pd\n",
    "import sys\n",
    "\n",
    "df2_fikset=pd.read_json(\"../data/df2_errors.json\") #Leser json filen \"df2_errors\"\n",
    "\n",
    "sys.path.append('../src')\n",
    "from funksjoner import håndter_mangler, håndter_uteliggere\n",
    "\n",
    "\n",
    "\n",
    "mangler=håndter_mangler(df2_fikset,\"mean(relative_humidity P1D)\",\"mean\") #Bruker gjennomsnittet til å fylle inn manglende verdier\n",
    "\n",
    "#Definerer øvre og nedre grense for å kvitte oss med verdier utenfor de grensene\n",
    "øvre_grense=60\n",
    "nedre_grense=-25\n",
    "\n",
    "uteliggere=håndter_uteliggere(mangler,\"mean(air_temperature P1D)\",øvre_grense,nedre_grense) #Fjerner uteliggere fra datsett uten manglende verdier\n",
    "\n",
    "uteliggere.to_json('../data/df2_fikset.json',indent=4) #Lagrer fikset data til \"df2_fikset.json\"\n",
    "\n"
   ]
  },
  {
   "cell_type": "markdown",
   "id": "0d6cd323",
   "metadata": {},
   "source": [
    "Videre kan vi se på luftkvalitetdataen: \n",
    "\n",
    "Her har vi data som mangler (\"null\" verdier), som kan ses i \"df1_data\". Problemet er at nullverdiene ikke er spredt ut i dataen men i blokker, der mange dager på rad har manglende verdier. \n",
    "\n"
   ]
  },
  {
   "cell_type": "code",
   "execution_count": 10,
   "id": "fcfb056b",
   "metadata": {},
   "outputs": [],
   "source": [
    "df1_fikset=pd.read_json('../data/df1_data.json')\n",
    "df1_fikset['date']=pd.to_datetime(df1_fikset['date'],unit='ms')\n",
    "\n",
    "for column in df1_fikset:\n",
    "    if column != \"date\":\n",
    "        df1_fikset=håndter_mangler(df1_fikset,column,'interpolate')\n",
    "\n",
    "df1_fikset.to_json('../data/df1_fikset.json',indent=4)\n"
   ]
  }
 ],
 "metadata": {
  "kernelspec": {
   "display_name": "venvP",
   "language": "python",
   "name": "python3"
  },
  "language_info": {
   "codemirror_mode": {
    "name": "ipython",
    "version": 3
   },
   "file_extension": ".py",
   "mimetype": "text/x-python",
   "name": "python",
   "nbconvert_exporter": "python",
   "pygments_lexer": "ipython3",
   "version": "3.13.3"
  }
 },
 "nbformat": 4,
 "nbformat_minor": 5
}
