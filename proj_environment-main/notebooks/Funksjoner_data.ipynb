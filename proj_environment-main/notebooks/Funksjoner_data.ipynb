{
 "cells": [
  {
   "cell_type": "markdown",
   "metadata": {},
   "source": [
    "## Her skal vi rette på feilene som vi lagde eller allerede har i dataene våre\n",
    "\n",
    "Først kan vi begynne med df2_errors, der vi har uregelmessigheter i dataen, med både \"null\" entries og uteliggere. \n",
    "\n",
    "Her er funksjoner som kan brukes til å rette opp feilene: "
   ]
  },
  {
   "cell_type": "code",
   "execution_count": 10,
   "metadata": {},
   "outputs": [],
   "source": [
    "import pandas as pd\n",
    "import numpy as np\n",
    "\n",
    "# Leser filen df2_errors.json\n",
    "df2_errors=pd.read_json('../data/df2_errors.json')\n",
    "\n",
    "df2_errors['referenceTime']=pd.to_datetime(df2_errors['referenceTime'],unit='ms')\n",
    "\n",
    "def håndter_mangler(df,column,method='mean',degree=2):\n",
    "    if method=='median':\n",
    "        df[column]=df[column].fillna(df[column].median())\n",
    "    elif method == 'interpolate':\n",
    "        df[column] = df[column].interpolate(method='polynomial',order=degree)\n",
    "    elif method == 'ffill':\n",
    "        df[column] = df[column].fillna(method='ffill')\n",
    "    elif method == 'bfill':\n",
    "        df[column] = df[column].fillna(method='bfill')\n",
    "    else: \n",
    "        df[column] = df[column].fillna(df[column].mean())\n",
    "    return df\n",
    "\n",
    "def håndter_uteliggere(df,column,method='mean',degree=2):\n",
    "    øvre_grense=45\n",
    "    nedre_grense=-20\n",
    "\n",
    "    df[column]=np.where((df[column]<nedre_grense) | (df[column]>øvre_grense),np.nan,df[column])\n",
    "    return håndter_mangler(df,column,method='mean')\n",
    "\n",
    "df2_errors=håndter_mangler(df2_errors,'mean(relative_humidity P1D)',method='interpolate',degree=1)\n",
    "df2_errors=håndter_uteliggere(df2_errors,'mean(air_temperature P1D)')\n",
    "\n",
    "df2_errors.to_json('../data/df2_fikset.json',indent=4)\n"
   ]
  },
  {
   "cell_type": "markdown",
   "metadata": {},
   "source": [
    "Videre så må vi fikse på luftkvalitetsdataen, som har en del nullverdier. "
   ]
  },
  {
   "cell_type": "code",
   "execution_count": 14,
   "metadata": {},
   "outputs": [],
   "source": [
    "df1_data=pd.read_json('../data/df1_data.json')\n",
    "\n",
    "df1_data['date']=pd.to_datetime(df1_data['date'],unit='ms')\n",
    "\n",
    "df1_data=håndter_mangler(df1_data,'CO',method='interpolate',degree=1)\n",
    "df1_data=håndter_mangler(df1_data,'NO',method='interpolate',degree=1)\n",
    "df1_data=håndter_mangler(df1_data,'NO2',method='interpolate',degree=1)\n",
    "df1_data=håndter_mangler(df1_data,'PM10',method='interpolate',degree=1)\n",
    "df1_data=håndter_mangler(df1_data,'NOx',method='interpolate',degree=1)\n",
    "df1_data=håndter_mangler(df1_data,'PM2.5',method='interpolate',degree=1)\n",
    "\n",
    "df1_data.to_json('../data/df1_fikset.json',indent=4)\n"
   ]
  }
 ],
 "metadata": {
  "kernelspec": {
   "display_name": ".venv",
   "language": "python",
   "name": "python3"
  },
  "language_info": {
   "codemirror_mode": {
    "name": "ipython",
    "version": 3
   },
   "file_extension": ".py",
   "mimetype": "text/x-python",
   "name": "python",
   "nbconvert_exporter": "python",
   "pygments_lexer": "ipython3",
   "version": "3.13.2"
  }
 },
 "nbformat": 4,
 "nbformat_minor": 2
}
