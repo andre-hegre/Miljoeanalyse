{
 "cells": [
  {
   "cell_type": "markdown",
   "metadata": {},
   "source": [
    "## Dataanalyse\n",
    "### Statistiske målinger for de innsamlede dataene\n",
    "Oppgave 4 omfatter en statistisk analyse av to datasett: ett med luftkvalitetsmålinger og ett med værdata. Ved hjelp av Pandas og NumPy ble det beregnet sentraltendensmål som gjennomsnitt og median, samt standardavvik for ulike vær- og luftkvalitetsvariabler.\n",
    "\n",
    "Gjennomsnittet gir en indikasjon på det generelle nivået av en variabel, mens medianen fungerer som et mer robust estimat i tilfeller der datasettet er skjevt eller inneholder ekstreme verdier. Standardavviket beskriver hvor mye observasjonene avviker fra gjennomsnittet, og er dermed nyttig for å vurdere graden av stabilitet eller volatilitet i dataene over tid.\n",
    "\n",
    "\n",
    "Disse statistiske beregningene er sentrale fordi de gir et nødvendig grunnlag for å forstå strukturen, kvaliteten og egenskapene ved datasettet før mer avanserte analyser gjennomføres. Ved å beregne mål for sentraltendens, som gjennomsnitt og median, samt mål for spredning som standardavvik, kan man få innsikt i hva som er typisk for datasettet, og hvor stor variasjon det er i observasjonene. Dette er særlig viktig i miljømålinger, hvor dataverdiene ofte påvirkes av både naturlige variasjoner (som værforhold og sesongendringer) og menneskeskapte forhold (som utslipp og urbanisering).\n",
    "\n",
    "Slike beregninger er også avgjørende for å kunne avdekke mønstre og trender. Formålet med den statistiske analysen er derfor ikke bare å oppsummere data, men også å gi en dypere forståelse av de underliggende prosessene og forholdene som påvirker miljøvariablene i datasettet.\n"
   ]
  },
  {
   "cell_type": "code",
   "execution_count": 1,
   "metadata": {},
   "outputs": [],
   "source": [
    "import json\n",
    "import pandas as pd\n",
    "import sys\n",
    "\n",
    "\n",
    "# Henter inn data fra to forskjellige JSON-filer\n",
    "path_df1 = \"../data/df1_data.json\"\n",
    "path_df2 = \"../data/df2_data.json\"\n",
    "\n",
    "#Forskjellige variabler i de to datasettene\n",
    "tid_df1 = \"date\"\n",
    "tid_df2 = \"referenceTime\"\n",
    "\n",
    "def les_data(file_path, variable, tid):\n",
    "    import json\n",
    "    import pandas as pd\n",
    "\n",
    "    with open(file_path, \"r\", encoding=\"utf-8\") as file:\n",
    "        raw_data = json.load(file)\n",
    "\n",
    "    tidsverdier = list(raw_data[tid].values())\n",
    "\n",
    "    # Hvis verdiene er strenger → ISO-format, ellers millisekunder\n",
    "    if isinstance(tidsverdier[0], str):\n",
    "        datoer = pd.to_datetime(tidsverdier)\n",
    "    else:\n",
    "        datoer = pd.to_datetime(tidsverdier, unit=\"ms\")\n",
    "\n",
    "    return pd.DataFrame({\n",
    "        tid: datoer,\n",
    "        \"value\": list(raw_data[variable].values())\n",
    "    })"
   ]
  },
  {
   "cell_type": "code",
   "execution_count": 2,
   "metadata": {},
   "outputs": [
    {
     "name": "stdout",
     "output_type": "stream",
     "text": [
      "Gjennomsnittstemperatur: 13.18 °C\n",
      "Median: 14.18 °C\n",
      "Standardavvik: 5.52 °C\n"
     ]
    }
   ],
   "source": [
    "# Importer funksjoner for å kunne beregne statistikk\n",
    "sys.path.append(\"../src\")\n",
    "from funksjoner import beregn_statistikk\n",
    "\n",
    "# Leser temperaturdata og beregner statistikk\n",
    "temperatur = les_data(path_df2, \"mean(air_temperature P1D)\", tid_df2)\n",
    "stat = beregn_statistikk(temperatur, kolonne=\"value\", tidskolonne=tid_df2)\n",
    "\n",
    "# Skriv ut resultatene\n",
    "print(f\"Gjennomsnittstemperatur: {stat['gjennomsnitt']:.2f} °C\")\n",
    "print(f\"Median: {stat['median']:.2f} °C\")\n",
    "print(f\"Standardavvik: {stat['standardavvik']:.2f} °C\")"
   ]
  },
  {
   "cell_type": "code",
   "execution_count": 3,
   "metadata": {},
   "outputs": [
    {
     "name": "stdout",
     "output_type": "stream",
     "text": [
      "Gjennomsnitt relativ luftfuktighet: 63.30 %\n",
      "Median: 63.00 %\n",
      "Standardavvik: 16.17 %\n"
     ]
    }
   ],
   "source": [
    "luftfuktighet = les_data(path_df2, \"mean(relative_humidity P1D)\", tid_df2)\n",
    "stat = beregn_statistikk(luftfuktighet, kolonne=\"value\", tidskolonne=tid_df2)\n",
    "\n",
    "print(f\"Gjennomsnitt relativ luftfuktighet: {stat['gjennomsnitt']:.2f} %\")\n",
    "print(f\"Median: {stat['median']:.2f} %\")\n",
    "print(f\"Standardavvik: {stat['standardavvik']:.2f} %\")"
   ]
  },
  {
   "cell_type": "code",
   "execution_count": null,
   "metadata": {},
   "outputs": [],
   "source": [
    "nedbør = les_data(path_df2, \"sum(precipitation_amount P1D)\",tid_df2)\n",
    "stat = beregn_statistikk(nedbør, kolonne=\"value\", tidskolonne=tid_df2)\n",
    "\n",
    "print(f\"Gjennomsnittlig nedbør: {stat['gjennomsnitt']:.2f} mm\")\n",
    "print(f\"Median: {stat['median']:.2f} mm\")\n",
    "print(f\"Standardavvik: {stat['standardavvik']:.2f} mm\")"
   ]
  },
  {
   "cell_type": "code",
   "execution_count": null,
   "metadata": {},
   "outputs": [],
   "source": [
    "vindhastighet = les_data(path_df2, \"mean(wind_speed P1D)\",tid_df2)\n",
    "stat = beregn_statistikk(vindhastighet, kolonne=\"value\", tidskolonne=tid_df2)\n",
    "\n",
    "print(f\"Gjennomsnittlig vindhastighet: {stat['gjennomsnitt']:.2f} m/s\")\n",
    "print(f\"Median: {stat['median']:.2f} m/s\")\n",
    "print(f\"Standardavvik: {stat['standardavvik']:.2f} m/s\")"
   ]
  },
  {
   "cell_type": "code",
   "execution_count": null,
   "metadata": {},
   "outputs": [],
   "source": [
    "# NB! Henter data fra df1_data.json, som er et annet datasett for luftkvalitet. Bruker fortatt den samme readingsfunksjonen.\n",
    "CO = les_data(path_df1, \"CO\", tid_df1)\n",
    "stat = beregn_statistikk(CO, kolonne=\"value\", tidskolonne=tid_df1)\n",
    "\n",
    "print(f\"Gjennomsnitt CO: {stat['gjennomsnitt']:.2f} mg/m³\")\n",
    "print(f\"Median: {stat['median']:.2f} mg/m³\")\n",
    "print(f\"Standardavvik: {stat['standardavvik']:.2f} mg/m³\")"
   ]
  },
  {
   "cell_type": "code",
   "execution_count": null,
   "metadata": {},
   "outputs": [],
   "source": [
    "NOx = les_data(path_df1, \"NOx\", tid_df1)\n",
    "stat = beregn_statistikk(NOx, kolonne=\"value\", tidskolonne=tid_df1)\n",
    "\n",
    "print(f\"Gjennomsnitt NOx: {stat['gjennomsnitt']:.2f} mg/m³\")\n",
    "print(f\"Median: {stat['median']:.2f} mg/m³\")\n",
    "print(f\"Standardavvik: {stat['standardavvik']:.2f} mg/m³\")"
   ]
  },
  {
   "cell_type": "code",
   "execution_count": null,
   "metadata": {},
   "outputs": [],
   "source": [
    "PM10 = les_data(path_df1, \"PM10\", tid_df1)\n",
    "stat = beregn_statistikk(PM10, kolonne=\"value\", tidskolonne=tid_df1)\n",
    "\n",
    "print(f\"Gjennomsnitt PM10: {stat['gjennomsnitt']:.2f} mg/m³\")\n",
    "print(f\"Median: {stat['median']:.2f} mg/m³\")\n",
    "print(f\"Standardavvik: {stat['standardavvik']:.2f} mg/m³\")"
   ]
  },
  {
   "cell_type": "code",
   "execution_count": null,
   "metadata": {},
   "outputs": [],
   "source": [
    "PM2_5 = les_data(path_df1, \"PM2.5\", tid_df1)\n",
    "stat = beregn_statistikk(PM2_5, kolonne=\"value\", tidskolonne=tid_df1)\n",
    "\n",
    "print(f\"Gjennomsnitt PM2.5: {stat['gjennomsnitt']:.2f} mg/m³\")\n",
    "print(f\"Median: {stat['median']:.2f} mg/m³\")\n",
    "print(f\"Standardavvik: {stat['standardavvik']:.2f} mg/m³\")"
   ]
  },
  {
   "cell_type": "markdown",
   "metadata": {},
   "source": [
    "### Korrelasjonsanalyse for å undersøke sammenhengen mellom to variabler i datasettet\n",
    "\n",
    "Som et første steg for å undersøke sammenhengen mellom to variabler i datasettet, ble det gjennomført en korrelasjonsanalyse. Ved hjelp av Pandas ble måledataene for hver variabel aggregert til daglige gjennomsnitt, noe som gjorde dataseriene sammenlignbare over tid. Korrelasjonskoeffisienten ble deretter brukt for å identifisere hvilke kombinasjoner av variabler som hadde høyest grad av lineær samvariasjon.\n",
    "\n",
    "Korrelasjon er et statistisk mål som beskriver styrken og retningen på den lineære relasjonen mellom to variabler. En positiv korrelasjon innebærer at begge variabler tenderer til å øke sammen, mens en negativ korrelasjon betyr at en økning i den ene sammenfaller med en nedgang i den andre. En verdi nær null indikerer at det ikke er noen tydelig lineær sammenheng. Denne analysen er et effektivt og mye brukt verktøy for å identifisere mulige sammenhenger før man går videre til mer avanserte statistiske metoder."
   ]
  },
  {
   "cell_type": "code",
   "execution_count": null,
   "metadata": {},
   "outputs": [],
   "source": [
    "# Funksjon for å beregne korrelasjon mellom to datasett\n",
    "def beregn_korrelasjon(df1, tid1, df2, tid2):\n",
    "    series1 = df1.groupby(df1[tid1].dt.date)[\"value\"].mean()\n",
    "    series2 = df2.groupby(df2[tid2].dt.date)[\"value\"].mean()\n",
    "\n",
    "    # Sikrer at begge serier har samme indeks (datoer)\n",
    "    common_dates = series1.index.intersection(series2.index)\n",
    "    aligned1 = series1.loc[common_dates]\n",
    "    aligned2 = series2.loc[common_dates]\n",
    "    \n",
    "    mask = (~aligned1.isna()) & (~aligned2.isna())\n",
    "    return aligned1[mask].corr(aligned2[mask])"
   ]
  },
  {
   "cell_type": "code",
   "execution_count": null,
   "metadata": {},
   "outputs": [],
   "source": [
    "# Beregner korrelasjon mellom temperatur og NOx\n",
    "korrelasjon_1 = beregn_korrelasjon(NOx, tid_df1,vindhastighet, tid_df2)\n",
    "print(f\"Korrelasjon mellom vindhastighet og lokal forurensning: {korrelasjon_1:.2f}\")"
   ]
  },
  {
   "cell_type": "code",
   "execution_count": null,
   "metadata": {},
   "outputs": [],
   "source": [
    "korrelasjon_2 = beregn_korrelasjon(PM10, tid_df1,vindhastighet, tid_df2)\n",
    "print(f\"Korrelasjon mellom vindhastighet og store partikler i luften: {korrelasjon_2:.2f}\")"
   ]
  },
  {
   "cell_type": "code",
   "execution_count": null,
   "metadata": {},
   "outputs": [],
   "source": [
    "korrelasjon_3 = beregn_korrelasjon(PM10, tid_df1,nedbør, tid_df2)\n",
    "print(f\"Korrelasjon mellom nedbør og store partikler i luften: {korrelasjon_3:.2f}\")"
   ]
  },
  {
   "cell_type": "code",
   "execution_count": null,
   "metadata": {},
   "outputs": [],
   "source": [
    "korrelasjon_4 = beregn_korrelasjon(PM2_5, tid_df1,luftfuktighet, tid_df2)\n",
    "print(f\"Korrelasjon mellom luftfuktighet og små partikler i luften: {korrelasjon_4:.2f}\")"
   ]
  },
  {
   "cell_type": "markdown",
   "metadata": {},
   "source": [
    "Basert på korrelasjonsanalysen, ble det identifisert at vindhastighet og lokal luftforurensning hadde den sterkeste sammenhengen blant de undersøkte variablene. Dette paret ble derfor valgt ut for videre analyse ved hjelp av lineær regresjon, for å kvantifisere styrken i relasjonen mer presist. Resultatet av korrelasjonsanalysen dannet dermed et viktig grunnlag for videre undersøkelse av potensielle sammenhenger."
   ]
  },
  {
   "cell_type": "markdown",
   "metadata": {},
   "source": [
    "### Håndtering av skjevheter og sikring av pålitelighet i analysen\n",
    "\n",
    "For å sikre påliteligheten i analysen og unngå skjevheter ble det tatt flere tiltak i forkant av den statistiske behandlingen. Først ble dataseriene renset for manglende verdier og ekstreme verdier som kunne påvirke resultatene uforholdsmessig mye. Dette ble gjort ved å bruke funksjoner som interpolerer manglende verdier, eller markerer ekstremverdier som NaN basert på definerte terskler.\n",
    "\n",
    "Videre ble dataseriene aggregert til daglige gjennomsnitt for å redusere støy. Dette gjør analysen mer robust mot tilfeldige variasjoner og ekstreme måleverdier som kan oppstå innenfor et kortere tidsintervall. Ved å standardisere tidspunkt og enhet for alle variabler, ble det også enklere å gjennomføre sammenligninger og sikre at eventuelle sammenhenger faktisk reflekterer en systematisk relasjon. og ikke er et resultat av ujevn datainnsamling eller tekniske måleavvik.\n",
    "\n",
    "Ved å kombinere disse tiltakene oppnås en mer pålitelig statistisk basis for analysen, og det reduseres risiko for feiltolkninger som følge av skjevheter, inkonsistens eller støy i datamaterialet."
   ]
  },
  {
   "cell_type": "markdown",
   "metadata": {},
   "source": [
    "### Vurdering av sammenhengen mellom vindhastighet og NOx\n",
    "\n",
    "I forkant av visualiseringen ble det gjennomført en lineær regresjonsanalyse mellom vindhastighet og NOx-konsentrasjon, som tidligere var identifisert som det variabelparet med sterkest korrelasjon. For å vurdere hvor godt denne modellen beskriver dataene, ble forklaringsgraden R² beregnet. Denne verdien gir et mål på hvor stor andel av variasjonen i NOx (den avhengige variabelen) som kan forklares av endringer i vindhastighet (den uavhengige variabelen)."
   ]
  },
  {
   "cell_type": "code",
   "execution_count": null,
   "metadata": {},
   "outputs": [],
   "source": [
    "from scipy.stats import linregress\n",
    "\n",
    "# Beregner gjennomsnittlig vindhastighet og NOx per dag\n",
    "wind_per_day = vindhastighet.groupby(vindhastighet[tid_df2].dt.date)[\"value\"].mean()\n",
    "nox_per_day = NOx.groupby(NOx[tid_df1].dt.date)[\"value\"].mean()\n",
    "\n",
    "# Sikrer at begge serier har samme indeks (datoer)\n",
    "common_dates = wind_per_day.index.intersection(nox_per_day.index)\n",
    "wind_aligned = wind_per_day.loc[common_dates]\n",
    "nox_aligned = nox_per_day.loc[common_dates]\n",
    "\n",
    "# Fjern manglende verdier\n",
    "mask = (~wind_aligned.isna()) & (~nox_aligned.isna())\n",
    "x = wind_aligned[mask].values\n",
    "y = nox_aligned[mask].values\n",
    "\n",
    "# Kjør regresjon med SciPy\n",
    "slope, intercept, r_value, p_value, std_err = linregress(x, y)\n",
    "\n",
    "print(f\"R² for lineær regresjon: {r_value**2:.2f}\")"
   ]
  },
  {
   "cell_type": "markdown",
   "metadata": {},
   "source": [
    "\n",
    "Den beregnede R²-verdien på 0.15 antyder at kun 15 % av variasjonen kan tilskrives vindhastighet, mens resten trolig skyldes andre faktorer eller støy i dataene."
   ]
  },
  {
   "cell_type": "markdown",
   "metadata": {},
   "source": [
    "### Visualisering av scatterplot med regresjonslinje\n",
    "\n",
    "For å støtte den statistiske analysen og formidle resultatene på en visuell og intuitiv måte, ble det laget et scatterplot med  regresjonslinje og annotert R²-verdi. Scatterplottet viser hver daglig observasjon av vindhastighet mot tilhørende NOx-nivå, og den røde regresjonslinjen representerer den lineære tilpasningen.\n",
    "\n",
    "Scatterplots som dette gir dermed ikke bare støtte til regresjonsmodellen, men hjelper også med å avdekke om forholdet mellom variablene er lineært, om det finnes ekstreme verdier, og hvorvidt visuelle mønstre støtter de statistiske målene."
   ]
  },
  {
   "cell_type": "code",
   "execution_count": null,
   "metadata": {},
   "outputs": [],
   "source": [
    "import matplotlib.pyplot as plt\n",
    "import numpy as np\n",
    "\n",
    "# Lag regresjonslinje-data\n",
    "x_lin = np.linspace(min(x), max(x), 100)\n",
    "y_lin = slope * x_lin + intercept\n",
    "\n",
    "# Plot\n",
    "plt.figure(figsize=(10, 6))\n",
    "plt.scatter(x, y, alpha=0.5, label=\"Observasjoner\")\n",
    "plt.plot(x_lin, y_lin, color='red', label='Regresjonslinje')\n",
    "\n",
    "# Legg til R² og korrelasjon i grafen\n",
    "tekst = f\"Korrelasjon: {korrelasjon_1:.2f}\\nR²: {r_value**2:.2f}\"\n",
    "plt.text(0.84, 0.84, tekst, transform=plt.gca().transAxes,\n",
    "         fontsize=11, verticalalignment='top',\n",
    "         bbox=dict(boxstyle=\"round,pad=0.4\", facecolor=\"white\", edgecolor=\"gray\"))\n",
    "\n",
    "# Pynt grafen\n",
    "plt.xlabel(\"Vindhastighet (m/s)\", fontsize=12)\n",
    "plt.ylabel(\"NOx (µg/m³)\", fontsize=12)\n",
    "plt.title(\"Sammenheng mellom vindhastighet og NOx-konsentrasjon\", fontsize=14)\n",
    "plt.grid(True)\n",
    "plt.legend()\n",
    "plt.tight_layout()\n",
    "plt.show()\n"
   ]
  },
  {
   "cell_type": "markdown",
   "metadata": {},
   "source": [
    "Visualiseringen bekrefter at det finnes en svak negativ sammenheng mellom vindhastighet og NOx, noe som er i tråd med hypotesen om at høyere vindhastighet bidrar til spredning av forurensning og dermed reduserte konsentrasjoner av NOx. Samtidig fremhever plottet at observasjonene er spredt rundt regresjonslinjen, noe som støtter den lave R²-verdien og viser at modellen har begrenset forklaringskraft.\n",
    "\n",
    "Punktfordelingen er likevel relativt spredt, og regresjonslinjen skjærer gjennom en stor sky av data – noe som bekrefter at det finnes mange andre faktorer som påvirker NOx-nivåene utover vind alene.'\n",
    "\n",
    "Visualiseringen gir derfor et mer nyansert bilde: den bekrefter at det finnes en svak sammenheng, men også at modellen er begrenset i forklaringskraft, noe som fremgår både av lav R² og spredte datapunkter."
   ]
  },
  {
   "cell_type": "markdown",
   "metadata": {},
   "source": [
    "### Polynomregresjon\n",
    "\n",
    "I tillegg til den lineære regresjonen ble det også gjennomført en polynomregresjon av femte grad. Hensikten med dette var å undersøke om en ikke-lineær modell kunne gi bedre tilpasning til dataene og dermed høyere forklaringsgrad (R²-verdi). Ved å tilpasse et polynom til observasjonene ønsket vi å se om modellen kunne fange opp eventuelle buede mønstre eller mer komplekse sammenhenger mellom vindhastighet og NOx-konsentrasjon."
   ]
  },
  {
   "cell_type": "code",
   "execution_count": null,
   "metadata": {},
   "outputs": [],
   "source": [
    "from numpy.polynomial.polynomial import Polynomial\n",
    "\n",
    "# Tilpass et polynom av grad 2 (kan endres til 3, 4, osv.)\n",
    "coeffs = Polynomial.fit(x, y, deg=5)\n",
    "\n",
    "# Evaluer modellen for å få regresjonslinje\n",
    "x_fit = np.linspace(min(x), max(x), 100)\n",
    "y_fit = coeffs(x_fit)\n",
    "\n",
    "# Plot\n",
    "plt.scatter(x, y, alpha=0.5, label=\"Observasjoner\")\n",
    "plt.plot(x_fit, y_fit, color=\"red\", label=\"Polynomregresjon (grad 5)\")\n",
    "plt.legend()\n",
    "plt.show()\n"
   ]
  },
  {
   "cell_type": "code",
   "execution_count": null,
   "metadata": {},
   "outputs": [],
   "source": [
    "import numpy as np\n",
    "import matplotlib.pyplot as plt\n",
    "from numpy.polynomial.polynomial import Polynomial\n",
    "\n",
    "# Anta at du allerede har x og y\n",
    "# 1. Tilpass polynom\n",
    "model = Polynomial.fit(x, y, deg=2)  # deg=2 er andregradspolynom\n",
    "\n",
    "# 2. Evaluer modellen på de opprinnelige x-verdiene\n",
    "y_pred = model(x)\n",
    "\n",
    "# 3. Beregn R² manuelt\n",
    "ss_res = np.sum((y - y_pred) ** 2)\n",
    "ss_tot = np.sum((y - np.mean(y)) ** 2)\n",
    "r2 = 1 - (ss_res / ss_tot)\n",
    "\n",
    "# 4. Skriv ut R²\n",
    "print(f\"R² for polynomregresjon: {r2:.2f}\")\n",
    "print(f\"R² for lineær regresjon: {r_value**2:.2f}\")"
   ]
  },
  {
   "cell_type": "markdown",
   "metadata": {},
   "source": [
    "Resultatene viste en svak økning i R²-verdien sammenlignet med den lineære modellen, men forbedringen var marginal og modellen ble samtidig mer kompleks og mindre tolkbar. På bakgrunn av dette ble den lineære modellen vurdert som tilstrekkelig for denne analysen, ettersom den gir en enklere og mer robust beskrivelse av sammenhengen, til tross for lav forklaringskraft."
   ]
  }
 ],
 "metadata": {
  "kernelspec": {
   "display_name": ".venv",
   "language": "python",
   "name": "python3"
  },
  "language_info": {
   "codemirror_mode": {
    "name": "ipython",
    "version": 3
   },
   "file_extension": ".py",
   "mimetype": "text/x-python",
   "name": "python",
   "nbconvert_exporter": "python",
   "pygments_lexer": "ipython3",
   "version": "3.13.2"
  }
 },
 "nbformat": 4,
 "nbformat_minor": 2
}
