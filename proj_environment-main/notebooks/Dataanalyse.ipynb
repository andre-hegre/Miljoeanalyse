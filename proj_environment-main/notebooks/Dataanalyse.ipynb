{
 "cells": [
  {
   "cell_type": "markdown",
   "metadata": {},
   "source": [
    "### Oppgave 4: Dataanalyse\n",
    "\n",
    "I denne delen av prosjektet skal dere bruke verktøy som NumPy, Pandas, Matplotlib osv. til å beregne statistiske mål som gjennomsnitt, median og standardavvik, som er essensielle for å forstå datakvaliteten og identifisere trender. Videre vil dere implementere enkle statistiske analyser for å avdekke mønstre i dataene, noe som kan gi innsikt i miljøforholdene over tid. Denne analysen vil danne grunnlaget for videre visualisering og prediktiv analyse, og bidra til en dypere forståelse av de miljømessige faktorene som påvirker samfunnet.\n",
    "\n",
    "*Vurderingskriterier:*\n",
    "\n",
    "1. Hvordan kan du bruke NumPy og Pandas til å beregne gjennomsnitt, median og standardavvik for de innsamlede dataene, og hvorfor er disse statistiske målene viktige?\n",
    "2. Kan du gi et eksempel på hvordan du vil implementere en enkel statistisk analyse for å undersøke sammenhengen mellom to variabler i datasettet?\n",
    "3. Hvordan planlegger du å håndtere eventuelle skjevheter i dataene under analysen, og hvilke metoder vil du bruke for å sikre at analysen er pålitelig?\n",
    "4. Hvilke visualiseringer vil du lage for å støtte analysen din, og hvordan vil disse visualiseringene hjelpe deg med å formidle funnene dine?"
   ]
  },
  {
   "cell_type": "markdown",
   "metadata": {},
   "source": [
    "Oppgave 4 omfatter en statistisk analyse av to datasett: ett med luftkvalitetsmålinger og ett med værdata. Ved hjelp av Pandas og NumPy ble det beregnet sentraltendensmål som gjennomsnitt og median, samt standardavvik for ulike vær- og luftkvalitetsvariabler.\n",
    "\n",
    "Gjennomsnittet gir en indikasjon på det generelle nivået av en variabel, mens medianen mens medianen fungerer som et mer robust estimat i tilfeller der datasettet er skjevt eller inneholder ekstreme verdier. Standardavviket beskriver hvor mye observasjonene avviker fra gjennomsnittet, og er dermed nyttig for å vurdere graden av stabilitet eller volatilitet i dataene over tid.\n",
    "\n",
    "\n",
    "Disse statistiske beregningene er sentrale fordi de gir et nødvendig grunnlag for å forstå strukturen, kvaliteten og egenskapene ved datasettet før mer avanserte analyser gjennomføres. Ved å beregne mål for sentraltendens, som gjennomsnitt og median, samt mål for spredning som standardavvik, kan man få innsikt i hva som er typisk for datasettet, og hvor stor variasjon det er i observasjonene. Dette er særlig viktig i miljømålinger, hvor dataverdiene ofte påvirkes av både naturlige variasjoner (som værforhold og sesongendringer) og menneskeskapte forhold (som utslipp og urbanisering).\n",
    "\n",
    "Slike beregninger er også avgjørende for å kunne avdekke mønstre og trender. Formålet med den statistiske analysen er derfor ikke bare å oppsummere data, men også å gi en dypere forståelse av de underliggende prosessene og forholdene som påvirker miljøvariablene i datasettet.\n"
   ]
  },
  {
   "cell_type": "code",
   "execution_count": 1,
   "metadata": {},
   "outputs": [],
   "source": [
    "import json\n",
    "import pandas as pd\n",
    "import matplotlib.pyplot as plt\n",
    "import sys\n",
    "\n",
    "# Importer funksjoner for å kunne beregne statistikk\n",
    "sys.path.append(\"../src\")\n",
    "from funksjoner import beregn_statistikk\n",
    "\n",
    "# Henter inn data fra to forskjellige JSON-filer\n",
    "path_df1 = \"../data/df1_data.json\"\n",
    "path_df2 = \"../data/df2_data.json\"\n",
    "\n",
    "#Forskjellige variabler i de to datasettene\n",
    "tid_df1 = \"date\"\n",
    "tid_df2 = \"referenceTime\"\n",
    "\n",
    "# Leser inn data fra JSON-filer og konverterer til DataFrame\n",
    "def les_data(file_path, variable, tid):\n",
    "    with open(file_path, \"r\", encoding=\"utf-8\") as file:\n",
    "        raw_data = json.load(file)\n",
    "    return pd.DataFrame({\n",
    "        tid: pd.to_datetime(list(raw_data[tid].values()), unit=\"ms\"),\n",
    "        \"value\": list(raw_data[variable].values())\n",
    "    })"
   ]
  },
  {
   "cell_type": "code",
   "execution_count": 2,
   "metadata": {},
   "outputs": [
    {
     "name": "stdout",
     "output_type": "stream",
     "text": [
      "Gjennomsnittstemperatur: 13.18 °C\n",
      "Median: 14.18 °C\n",
      "Standardavvik: 5.52 °C\n"
     ]
    }
   ],
   "source": [
    "# Leser temperaturdata og beregner statistikk\n",
    "temperatur = les_data(path_df2, \"mean(air_temperature P1D)\", tid_df2)\n",
    "stat = beregn_statistikk(temperatur, kolonne=\"value\", tidskolonne=tid_df2)\n",
    "\n",
    "# Skriv ut resultatene\n",
    "print(f\"Gjennomsnittstemperatur: {stat['gjennomsnitt']:.2f} °C\")\n",
    "print(f\"Median: {stat['median']:.2f} °C\")\n",
    "print(f\"Standardavvik: {stat['standardavvik']:.2f} °C\")"
   ]
  },
  {
   "cell_type": "code",
   "execution_count": 5,
   "metadata": {},
   "outputs": [
    {
     "name": "stdout",
     "output_type": "stream",
     "text": [
      "Gjennomsnitt relativ luftfuktighet: 63.30 %\n",
      "Median: 63.00 %\n",
      "Standardavvik: 16.17 %\n"
     ]
    }
   ],
   "source": [
    "luftfuktighet = les_data(path_df2, \"mean(relative_humidity P1D)\", tid_df2)\n",
    "stat = beregn_statistikk(luftfuktighet, kolonne=\"value\", tidskolonne=tid_df2)\n",
    "\n",
    "print(f\"Gjennomsnitt relativ luftfuktighet: {stat['gjennomsnitt']:.2f} %\")\n",
    "print(f\"Median: {stat['median']:.2f} %\")\n",
    "print(f\"Standardavvik: {stat['standardavvik']:.2f} %\")"
   ]
  },
  {
   "cell_type": "code",
   "execution_count": 6,
   "metadata": {},
   "outputs": [
    {
     "name": "stdout",
     "output_type": "stream",
     "text": [
      "Gjennomsnittlig nedbør: 2.50 mm\n",
      "Median: 0.20 mm\n",
      "Standardavvik: 5.06 mm\n"
     ]
    }
   ],
   "source": [
    "nedbør = les_data(path_df2, \"sum(precipitation_amount P1D)\",tid_df2)\n",
    "stat = beregn_statistikk(nedbør, kolonne=\"value\", tidskolonne=tid_df2)\n",
    "\n",
    "print(f\"Gjennomsnittlig nedbør: {stat['gjennomsnitt']:.2f} mm\")\n",
    "print(f\"Median: {stat['median']:.2f} mm\")\n",
    "print(f\"Standardavvik: {stat['standardavvik']:.2f} mm\")"
   ]
  },
  {
   "cell_type": "code",
   "execution_count": 7,
   "metadata": {},
   "outputs": [
    {
     "name": "stdout",
     "output_type": "stream",
     "text": [
      "Gjennomsnittlig vindhastighet: 2.83 m/s\n",
      "Median: 2.70 m/s\n",
      "Standardavvik: 0.87 m/s\n"
     ]
    }
   ],
   "source": [
    "vindhastighet = les_data(path_df2, \"mean(wind_speed P1D)\",tid_df2)\n",
    "stat = beregn_statistikk(vindhastighet, kolonne=\"value\", tidskolonne=tid_df2)\n",
    "\n",
    "print(f\"Gjennomsnittlig vindhastighet: {stat['gjennomsnitt']:.2f} m/s\")\n",
    "print(f\"Median: {stat['median']:.2f} m/s\")\n",
    "print(f\"Standardavvik: {stat['standardavvik']:.2f} m/s\")"
   ]
  },
  {
   "cell_type": "markdown",
   "metadata": {},
   "source": [
    "### Henting av data fra annen datafil"
   ]
  },
  {
   "cell_type": "code",
   "execution_count": 8,
   "metadata": {},
   "outputs": [
    {
     "name": "stdout",
     "output_type": "stream",
     "text": [
      "Gjennomsnitt CO: 0.20 mg/m³\n",
      "Median: 0.20 mg/m³\n",
      "Standardavvik: 0.11 mg/m³\n"
     ]
    }
   ],
   "source": [
    "CO = les_data(path_df1, \"CO\", tid_df1)\n",
    "stat = beregn_statistikk(CO, kolonne=\"value\", tidskolonne=tid_df1)\n",
    "\n",
    "print(f\"Gjennomsnitt CO: {stat['gjennomsnitt']:.2f} mg/m³\")\n",
    "print(f\"Median: {stat['median']:.2f} mg/m³\")\n",
    "print(f\"Standardavvik: {stat['standardavvik']:.2f} mg/m³\")"
   ]
  },
  {
   "cell_type": "code",
   "execution_count": 9,
   "metadata": {},
   "outputs": [
    {
     "name": "stdout",
     "output_type": "stream",
     "text": [
      "Gjennomsnitt NOx: 13.60 mg/m³\n",
      "Median: 12.23 mg/m³\n",
      "Standardavvik: 6.51 mg/m³\n"
     ]
    }
   ],
   "source": [
    "NOx = les_data(path_df1, \"NOx\", tid_df1)\n",
    "stat = beregn_statistikk(NOx, kolonne=\"value\", tidskolonne=tid_df1)\n",
    "\n",
    "print(f\"Gjennomsnitt NOx: {stat['gjennomsnitt']:.2f} mg/m³\")\n",
    "print(f\"Median: {stat['median']:.2f} mg/m³\")\n",
    "print(f\"Standardavvik: {stat['standardavvik']:.2f} mg/m³\")"
   ]
  },
  {
   "cell_type": "code",
   "execution_count": 10,
   "metadata": {},
   "outputs": [
    {
     "name": "stdout",
     "output_type": "stream",
     "text": [
      "Gjennomsnitt PM10: 11.31 mg/m³\n",
      "Median: 10.00 mg/m³\n",
      "Standardavvik: 6.64 mg/m³\n"
     ]
    }
   ],
   "source": [
    "PM10 = les_data(path_df1, \"PM10\", tid_df1)\n",
    "stat = beregn_statistikk(PM10, kolonne=\"value\", tidskolonne=tid_df1)\n",
    "\n",
    "print(f\"Gjennomsnitt PM10: {stat['gjennomsnitt']:.2f} mg/m³\")\n",
    "print(f\"Median: {stat['median']:.2f} mg/m³\")\n",
    "print(f\"Standardavvik: {stat['standardavvik']:.2f} mg/m³\")"
   ]
  },
  {
   "cell_type": "code",
   "execution_count": 11,
   "metadata": {},
   "outputs": [
    {
     "name": "stdout",
     "output_type": "stream",
     "text": [
      "Gjennomsnitt PM2.5: 5.17 mg/m³\n",
      "Median: 4.59 mg/m³\n",
      "Standardavvik: 2.80 mg/m³\n"
     ]
    }
   ],
   "source": [
    "PM2_5 = les_data(path_df1, \"PM2.5\", tid_df1)\n",
    "stat = beregn_statistikk(PM2_5, kolonne=\"value\", tidskolonne=tid_df1)\n",
    "\n",
    "print(f\"Gjennomsnitt PM2.5: {stat['gjennomsnitt']:.2f} mg/m³\")\n",
    "print(f\"Median: {stat['median']:.2f} mg/m³\")\n",
    "print(f\"Standardavvik: {stat['standardavvik']:.2f} mg/m³\")"
   ]
  },
  {
   "cell_type": "markdown",
   "metadata": {},
   "source": [
    "### Statistisk analyse for å undersøke sammenhengen mellom to variabler i datasettet\n",
    "\n",
    "For å undersøke sammenhengen mellom to variabler i datasettet, ble det gjennomført en korrelasjonsanalyse. Ved hjelp av Pandas ble observasjonene for hver variabel aggregert til daglige gjennomsnitt, slik at dataseriene ble sammenlignbare over tid.\n",
    "\n",
    "Denne metoden gjorde det mulig å identifisere hvilke kombinasjoner av variabler som hadde høyest grad av lineær samvariasjon. Ved å utforske flere par, kunne vi avdekke hvilke sammenhenger som var mest relevante for videre analyse. Korrelasjonskoeffisienten gir et mål på både styrken og retningen på den lineære relasjonen mellom to variabler, og er derfor et effektivt første steg i en statistisk undersøkelse. Det gir et kvantitativt grunnlag for å vurdere om en dypere analyse, som for eksempel regresjon, er hensiktsmessig."
   ]
  },
  {
   "cell_type": "code",
   "execution_count": 12,
   "metadata": {},
   "outputs": [],
   "source": [
    "# Funksjon for å beregne korrelasjon mellom to datasett\n",
    "def beregn_korrelasjon(df1, tid1, df2, tid2):\n",
    "    series1 = df1.groupby(df1[tid1].dt.date)[\"value\"].mean()\n",
    "    series2 = df2.groupby(df2[tid2].dt.date)[\"value\"].mean()\n",
    "\n",
    "    # Sikrer at begge serier har samme indeks (datoer)\n",
    "    common_dates = series1.index.intersection(series2.index)\n",
    "    aligned1 = series1.loc[common_dates]\n",
    "    aligned2 = series2.loc[common_dates]\n",
    "    \n",
    "    mask = (~aligned1.isna()) & (~aligned2.isna())\n",
    "    return aligned1[mask].corr(aligned2[mask])"
   ]
  },
  {
   "cell_type": "code",
   "execution_count": 13,
   "metadata": {},
   "outputs": [
    {
     "name": "stdout",
     "output_type": "stream",
     "text": [
      "Korrelasjon mellom vindhastighet og lokal forurensning: -0.39\n"
     ]
    }
   ],
   "source": [
    "# Beregner korrelasjon mellom temperatur og NOx\n",
    "korrelasjon_1 = beregn_korrelasjon(NOx, tid_df1,vindhastighet, tid_df2)\n",
    "print(f\"Korrelasjon mellom vindhastighet og lokal forurensning: {korrelasjon_1:.2f}\")"
   ]
  },
  {
   "cell_type": "code",
   "execution_count": 14,
   "metadata": {},
   "outputs": [
    {
     "name": "stdout",
     "output_type": "stream",
     "text": [
      "Korrelasjon mellom vindhastighet og store partikler i luften: -0.26\n"
     ]
    }
   ],
   "source": [
    "korrelasjon_2 = beregn_korrelasjon(PM10, tid_df1,vindhastighet, tid_df2)\n",
    "print(f\"Korrelasjon mellom vindhastighet og store partikler i luften: {korrelasjon_2:.2f}\")"
   ]
  },
  {
   "cell_type": "code",
   "execution_count": 15,
   "metadata": {},
   "outputs": [
    {
     "name": "stdout",
     "output_type": "stream",
     "text": [
      "Korrelasjon mellom nedbør og store partikler i luften: -0.19\n"
     ]
    }
   ],
   "source": [
    "korrelasjon_3 = beregn_korrelasjon(PM10, tid_df1,nedbør, tid_df2)\n",
    "print(f\"Korrelasjon mellom nedbør og store partikler i luften: {korrelasjon_3:.2f}\")"
   ]
  },
  {
   "cell_type": "code",
   "execution_count": 17,
   "metadata": {},
   "outputs": [
    {
     "name": "stdout",
     "output_type": "stream",
     "text": [
      "Korrelasjon mellom luftfuktighet og små partikler i luften: 0.25\n"
     ]
    }
   ],
   "source": [
    "korrelasjon_4 = beregn_korrelasjon(PM2_5, tid_df1,luftfuktighet, tid_df2)\n",
    "print(f\"Korrelasjon mellom luftfuktighet og små partikler i luften: {korrelasjon_4:.2f}\")"
   ]
  },
  {
   "cell_type": "markdown",
   "metadata": {},
   "source": [
    "### Regresjonsanalyse og beregning av R² for variabelparet med sterkest sammenheng\n",
    "\n",
    "Basert på den innledende korrelasjonsanalysen ble det identifisert at vindhastighet og lokal luftforurensning hadde den sterkeste sammenhengen blant de undersøkte variablene. For å undersøke dette forholdet nærmere ble det gjennomført en lineær regresjonsanalyse, hvor formålet var å modellere hvordan endringer i vindhastighet påvirker nivåene av NOx i luften.\n",
    "\n",
    "Den lineære regresjonsmodellen ble implementert ved hjelp av SciPy-biblioteket. Modellens formål er å kvantifisere hvordan variasjoner i vindhastighet påvirker nivåene av NOx. Regresjonsanalysen fungerer dermed som et sentralt verktøy for å identifisere og kvantifisere potensielle årsakssammenhenger i datasettet, og resultatene danner et solid grunnlag for videre visualisering og tolkning av sammenhengen mellom miljøvariabler.\n",
    "\n",
    "\n",
    "I tillegg ble R²-verdien beregnet for å evaluere modellens forklaringskraft. R² uttrykker hvor stor andel av variasjonen i den avhengige variabelen (NOx) som kan forklares av endringer i den uavhengige variabelen (vindhastighet). En høy R²-verdi indikerer at den lineære modellen gir en god tilpasning til observasjonene, mens en lav verdi antyder svak sammenheng eller høy grad av støy i dataene.\n",
    "\n"
   ]
  },
  {
   "cell_type": "code",
   "execution_count": null,
   "metadata": {},
   "outputs": [],
   "source": [
    "from scipy.stats import linregress\n",
    "\n",
    "# Beregner gjennomsnittlig vindhastighet og NOx per dag\n",
    "wind_per_day = vindhastighet.groupby(vindhastighet[tid_df2].dt.date)[\"value\"].mean()\n",
    "nox_per_day = NOx.groupby(NOx[tid_df1].dt.date)[\"value\"].mean()\n",
    "\n",
    "# Sikrer at begge serier har samme indeks (datoer)\n",
    "common_dates = wind_per_day.index.intersection(nox_per_day.index)\n",
    "wind_aligned = wind_per_day.loc[common_dates]\n",
    "nox_aligned = nox_per_day.loc[common_dates]\n",
    "\n",
    "# Fjern manglende verdier\n",
    "mask = (~wind_aligned.isna()) & (~nox_aligned.isna())\n",
    "x = wind_aligned[mask].values\n",
    "y = nox_aligned[mask].values\n",
    "\n",
    "# Kjør regresjon med SciPy\n",
    "slope, intercept, r_value, p_value, std_err = linregress(x, y)\n",
    "\n",
    "print(f\"R² mellom vindhastighet og lokal forurensning: {r_value**2:.2f}\")"
   ]
  },
  {
   "cell_type": "markdown",
   "metadata": {},
   "source": [
    "En R²-verdi på 0.15 inidkerer at forholdet mellom vindhastighet og lokal forurensning har en svak lineær sammenheng. Likevel ønsket vi å undersøke om det fantes en visuell trend, og om enkelte verdier eller uteliggere kunne påvirke tolkningen."
   ]
  },
  {
   "cell_type": "code",
   "execution_count": null,
   "metadata": {},
   "outputs": [],
   "source": [
    "import matplotlib.pyplot as plt\n",
    "import numpy as np\n",
    "\n",
    "# Lag regresjonslinje-data\n",
    "x_lin = np.linspace(min(x), max(x), 100)\n",
    "y_lin = slope * x_lin + intercept\n",
    "\n",
    "# Plot\n",
    "plt.figure(figsize=(10, 6))\n",
    "plt.scatter(x, y, alpha=0.5, label=\"Observasjoner\")\n",
    "plt.plot(x_lin, y_lin, color='red', label='Regresjonslinje')\n",
    "\n",
    "# Legg til R² og korrelasjon i grafen\n",
    "tekst = f\"Korrelasjon: {korrelasjon_1:.2f}\\nR²: {r_value**2:.2f}\"\n",
    "plt.text(0.84, 0.84, tekst, transform=plt.gca().transAxes,\n",
    "         fontsize=11, verticalalignment='top',\n",
    "         bbox=dict(boxstyle=\"round,pad=0.4\", facecolor=\"white\", edgecolor=\"gray\"))\n",
    "\n",
    "# Pynt grafen\n",
    "plt.xlabel(\"Vindhastighet (m/s)\", fontsize=12)\n",
    "plt.ylabel(\"NOx (µg/m³)\", fontsize=12)\n",
    "plt.title(\"Sammenheng mellom vindhastighet og NOx-konsentrasjon\", fontsize=14)\n",
    "plt.grid(True)\n",
    "plt.legend()\n",
    "plt.tight_layout()\n",
    "plt.show()\n"
   ]
  },
  {
   "cell_type": "markdown",
   "metadata": {},
   "source": [
    "Etter å ha plottet dataene i et scatter plot, observerer vi en svak negativ trend mellom vindhastighet og NOx. Dette støtter hypotesen om at økt vindhastighet kan bidra til å spre luftforurensning, og dermed redusere konsentrasjonen av NOx lokalt. Punktfordelingen er likevel relativt spredt, og regresjonslinjen skjærer gjennom en stor sky av data – noe som bekrefter at det finnes mange andre faktorer som påvirker NOx-nivåene utover vind alene.'\n",
    "\n",
    "Visualiseringen gir derfor et mer nyansert bilde: den bekrefter at det finnes en svak sammenheng, men også at modellen er begrenset i forklaringskraft, noe som fremgår både av lav R² og spredte datapunkter."
   ]
  },
  {
   "cell_type": "markdown",
   "metadata": {},
   "source": [
    "Et scatter plot viser sammenhengen mellom to variabler. Hvis punktene danner et tydelig mønster (for eksempel en stigende eller synkende linje), tyder det på en sammenheng. Hvis punktene er spredt tilfeldig, er det liten eller ingen lineær sammenheng.\n",
    "\n",
    "For temperatur vs NOx: Hvis punktene er spredt uten mønster, støtter det at R² er nær 0.\n",
    "For vindstyrke vs NOx: Hvis punktene har en svak negativ trend, kan det tyde på at økt vind gir lavere NOx, men hvis de er spredt, er sammenhengen svak.\n",
    "Scatter plots hjelper deg å se om det er en visuell sammenheng, selv om R² er lav."
   ]
  },
  {
   "cell_type": "markdown",
   "metadata": {},
   "source": [
    "### Polynomregresjon\n",
    "\n",
    "vet ikke om vi trenger denne"
   ]
  },
  {
   "cell_type": "code",
   "execution_count": null,
   "metadata": {},
   "outputs": [],
   "source": [
    "from numpy.polynomial.polynomial import Polynomial\n",
    "\n",
    "# Tilpass et polynom av grad 2 (kan endres til 3, 4, osv.)\n",
    "coeffs = Polynomial.fit(x, y, deg=5)\n",
    "\n",
    "# Evaluer modellen for å få regresjonslinje\n",
    "x_fit = np.linspace(min(x), max(x), 100)\n",
    "y_fit = coeffs(x_fit)\n",
    "\n",
    "# Plot\n",
    "plt.scatter(x, y, alpha=0.5, label=\"Observasjoner\")\n",
    "plt.plot(x_fit, y_fit, color=\"red\", label=\"Polynomregresjon (grad 2)\")\n",
    "plt.legend()\n",
    "plt.show()\n"
   ]
  },
  {
   "cell_type": "code",
   "execution_count": null,
   "metadata": {},
   "outputs": [],
   "source": [
    "import numpy as np\n",
    "import matplotlib.pyplot as plt\n",
    "from numpy.polynomial.polynomial import Polynomial\n",
    "\n",
    "# Anta at du allerede har x og y\n",
    "# 1. Tilpass polynom\n",
    "model = Polynomial.fit(x, y, deg=2)  # deg=2 er andregradspolynom\n",
    "\n",
    "# 2. Evaluer modellen på de opprinnelige x-verdiene\n",
    "y_pred = model(x)\n",
    "\n",
    "# 3. Beregn R² manuelt\n",
    "ss_res = np.sum((y - y_pred) ** 2)\n",
    "ss_tot = np.sum((y - np.mean(y)) ** 2)\n",
    "r2 = 1 - (ss_res / ss_tot)\n",
    "\n",
    "# 4. Skriv ut R²\n",
    "print(f\"R² for polynomregresjon: {r2:.2f}\")"
   ]
  }
 ],
 "metadata": {
  "kernelspec": {
   "display_name": "venvP",
   "language": "python",
   "name": "python3"
  },
  "language_info": {
   "codemirror_mode": {
    "name": "ipython",
    "version": 3
   },
   "file_extension": ".py",
   "mimetype": "text/x-python",
   "name": "python",
   "nbconvert_exporter": "python",
   "pygments_lexer": "ipython3",
   "version": "3.11.9"
  }
 },
 "nbformat": 4,
 "nbformat_minor": 2
}
