{
 "cells": [
  {
   "cell_type": "markdown",
   "metadata": {},
   "source": [
    "### Oppgave 4: Dataanalyse\n",
    "\n",
    "I denne delen av prosjektet skal dere bruke verktøy som NumPy, Pandas, Matplotlib osv. til å beregne statistiske mål som gjennomsnitt, median og standardavvik, som er essensielle for å forstå datakvaliteten og identifisere trender. Videre vil dere implementere enkle statistiske analyser for å avdekke mønstre i dataene, noe som kan gi innsikt i miljøforholdene over tid. Denne analysen vil danne grunnlaget for videre visualisering og prediktiv analyse, og bidra til en dypere forståelse av de miljømessige faktorene som påvirker samfunnet.\n",
    "\n",
    "*Vurderingskriterier:*\n",
    "\n",
    "1. Hvordan kan du bruke NumPy og Pandas til å beregne gjennomsnitt, median og standardavvik for de innsamlede dataene, og hvorfor er disse statistiske målene viktige?\n",
    "2. Kan du gi et eksempel på hvordan du vil implementere en enkel statistisk analyse for å undersøke sammenhengen mellom to variabler i datasettet?\n",
    "3. Hvordan planlegger du å håndtere eventuelle skjevheter i dataene under analysen, og hvilke metoder vil du bruke for å sikre at analysen er pålitelig?\n",
    "4. Hvilke visualiseringer vil du lage for å støtte analysen din, og hvordan vil disse visualiseringene hjelpe deg med å formidle funnene dine?"
   ]
  },
  {
   "cell_type": "code",
   "execution_count": 1,
   "metadata": {},
   "outputs": [],
   "source": [
    "import json\n",
    "import pandas as pd\n",
    "import matplotlib.pyplot as plt\n",
    "import sys\n",
    "\n",
    "sys.path.append(\"../src\")\n",
    "\n",
    "from funksjoner import beregn_statistikk\n",
    "\n",
    "tid_df1 = \"date\"\n",
    "tid_df2 = \"referenceTime\"\n",
    "\n",
    "\n",
    "def les_data(file_path, variable, tid):\n",
    "    with open(file_path, \"r\", encoding=\"utf-8\") as file:\n",
    "        raw_data = json.load(file)\n",
    "    return pd.DataFrame({\n",
    "        tid: pd.to_datetime(list(raw_data[tid].values()), unit=\"ms\"),\n",
    "        \"value\": list(raw_data[variable].values())\n",
    "    })"
   ]
  },
  {
   "cell_type": "code",
   "execution_count": 2,
   "metadata": {},
   "outputs": [
    {
     "name": "stdout",
     "output_type": "stream",
     "text": [
      "Gjennomsnittstemperatur: 13.18 °C\n",
      "Median: 14.18 °C\n",
      "Standardavvik: 5.52 °C\n"
     ]
    }
   ],
   "source": [
    "path_df2 = \"../data/df2_data.json\"\n",
    "tid = \"referenceTime\"\n",
    "\n",
    "# Les temperaturdata og beregn statistikk\n",
    "df = les_data(path_df2, \"mean(air_temperature P1D)\", tid_df2)\n",
    "stat = beregn_statistikk(df, kolonne=\"value\", tidskolonne=\"referenceTime\")\n",
    "\n",
    "# Skriv ut resultatene\n",
    "print(f\"Gjennomsnittstemperatur: {stat['gjennomsnitt']:.2f} °C\")\n",
    "print(f\"Median: {stat['median']:.2f} °C\")\n",
    "print(f\"Standardavvik: {stat['standardavvik']:.2f} °C\")"
   ]
  },
  {
   "cell_type": "code",
   "execution_count": 3,
   "metadata": {},
   "outputs": [
    {
     "name": "stdout",
     "output_type": "stream",
     "text": [
      "Gjennomsnitt relativ luftfuktighet: 63.30 %\n",
      "Median: 63.00 %\n",
      "Standardavvik: 16.17 %\n"
     ]
    }
   ],
   "source": [
    "# Les inn relativ luftfuktighet og beregn statistikk\n",
    "df = les_data(path_df2, \"mean(relative_humidity P1D)\", tid_df2)\n",
    "stat = beregn_statistikk(df, kolonne=\"value\", tidskolonne=tid_df2)\n",
    "\n",
    "# Skriv ut statistikk\n",
    "print(f\"Gjennomsnitt relativ luftfuktighet: {stat['gjennomsnitt']:.2f} %\")\n",
    "print(f\"Median: {stat['median']:.2f} %\")\n",
    "print(f\"Standardavvik: {stat['standardavvik']:.2f} %\")"
   ]
  },
  {
   "cell_type": "code",
   "execution_count": 4,
   "metadata": {},
   "outputs": [
    {
     "name": "stdout",
     "output_type": "stream",
     "text": [
      "Gjennomsnittlig nedbør: 2.50 mm\n",
      "Median: 0.20 mm\n",
      "Standardavvik: 5.06 mm\n"
     ]
    }
   ],
   "source": [
    "df = les_data(path_df2, \"sum(precipitation_amount P1D)\",tid_df2)\n",
    "stat = beregn_statistikk(df, kolonne=\"value\", tidskolonne=tid_df2)\n",
    "\n",
    "print(f\"Gjennomsnittlig nedbør: {stat['gjennomsnitt']:.2f} mm\")\n",
    "print(f\"Median: {stat['median']:.2f} mm\")\n",
    "print(f\"Standardavvik: {stat['standardavvik']:.2f} mm\")"
   ]
  },
  {
   "cell_type": "code",
   "execution_count": 5,
   "metadata": {},
   "outputs": [
    {
     "name": "stdout",
     "output_type": "stream",
     "text": [
      "Gjennomsnittlig vindhastighet: 2.83 m/s\n",
      "Median: 2.70 m/s\n",
      "Standardavvik: 0.87 m/s\n"
     ]
    }
   ],
   "source": [
    "df = les_data(path_df2, \"mean(wind_speed P1D)\",tid_df2)\n",
    "stat = beregn_statistikk(df, kolonne=\"value\", tidskolonne=tid_df2)\n",
    "\n",
    "print(f\"Gjennomsnittlig vindhastighet: {stat['gjennomsnitt']:.2f} m/s\")\n",
    "print(f\"Median: {stat['median']:.2f} m/s\")\n",
    "print(f\"Standardavvik: {stat['standardavvik']:.2f} m/s\")\n"
   ]
  },
  {
   "cell_type": "markdown",
   "metadata": {},
   "source": [
    "### Ulik variabel for tid\n",
    "\n",
    "Lager en ny gjenbrukbar les funksjon for df1_data"
   ]
  },
  {
   "cell_type": "code",
   "execution_count": 7,
   "metadata": {},
   "outputs": [
    {
     "name": "stdout",
     "output_type": "stream",
     "text": [
      "Gjennomsnitt CO: 0.20 mg/m³\n",
      "Median: 0.20 mg/m³\n",
      "Standardavvik: 0.11 mg/m³\n"
     ]
    }
   ],
   "source": [
    "path_df1 = \"../data/df1_data.json\"\n",
    "\n",
    "df = les_data(path_df1, \"CO\", tid_df1)\n",
    "stat = beregn_statistikk(df, kolonne=\"value\", tidskolonne=tid_df1)\n",
    "\n",
    "print(f\"Gjennomsnitt CO: {stat['gjennomsnitt']:.2f} mg/m³\")\n",
    "print(f\"Median: {stat['median']:.2f} mg/m³\")\n",
    "print(f\"Standardavvik: {stat['standardavvik']:.2f} mg/m³\")"
   ]
  },
  {
   "cell_type": "code",
   "execution_count": 8,
   "metadata": {},
   "outputs": [
    {
     "name": "stdout",
     "output_type": "stream",
     "text": [
      "Gjennomsnitt NOx: 13.60 mg/m³\n",
      "Median: 12.23 mg/m³\n",
      "Standardavvik: 6.51 mg/m³\n"
     ]
    }
   ],
   "source": [
    "df = les_data(path_df1, \"NOx\", tid_df1)\n",
    "stat = beregn_statistikk(df, kolonne=\"value\", tidskolonne=tid_df1)\n",
    "\n",
    "print(f\"Gjennomsnitt NOx: {stat['gjennomsnitt']:.2f} mg/m³\")\n",
    "print(f\"Median: {stat['median']:.2f} mg/m³\")\n",
    "print(f\"Standardavvik: {stat['standardavvik']:.2f} mg/m³\")"
   ]
  },
  {
   "cell_type": "code",
   "execution_count": 9,
   "metadata": {},
   "outputs": [
    {
     "name": "stdout",
     "output_type": "stream",
     "text": [
      "Gjennomsnitt PM10: 11.31 mg/m³\n",
      "Median: 10.00 mg/m³\n",
      "Standardavvik: 6.64 mg/m³\n"
     ]
    }
   ],
   "source": [
    "df = les_data(path_df1, \"PM10\", tid_df1)\n",
    "stat = beregn_statistikk(df, kolonne=\"value\", tidskolonne=tid_df1)\n",
    "\n",
    "print(f\"Gjennomsnitt PM10: {stat['gjennomsnitt']:.2f} mg/m³\")\n",
    "print(f\"Median: {stat['median']:.2f} mg/m³\")\n",
    "print(f\"Standardavvik: {stat['standardavvik']:.2f} mg/m³\")"
   ]
  },
  {
   "cell_type": "code",
   "execution_count": 10,
   "metadata": {},
   "outputs": [
    {
     "name": "stdout",
     "output_type": "stream",
     "text": [
      "Gjennomsnitt PM2.5: 5.17 mg/m³\n",
      "Median: 4.59 mg/m³\n",
      "Standardavvik: 2.80 mg/m³\n"
     ]
    }
   ],
   "source": [
    "df = les_data(path_df1, \"PM2.5\", tid_df1)\n",
    "stat = beregn_statistikk(df, kolonne=\"value\", tidskolonne=tid_df1)\n",
    "\n",
    "print(f\"Gjennomsnitt PM2.5: {stat['gjennomsnitt']:.2f} mg/m³\")\n",
    "print(f\"Median: {stat['median']:.2f} mg/m³\")\n",
    "print(f\"Standardavvik: {stat['standardavvik']:.2f} mg/m³\")"
   ]
  },
  {
   "cell_type": "markdown",
   "metadata": {},
   "source": [
    "Ved hjelp av Pandas og NumPy beregnet vi gjennomsnitt, median og standardavvik for all værdata. Dette ga oss et innblikk i dataspredning og mulige outliers. Vi observerte f.eks. at NOx-verdiene hadde høy variasjon, og temperaturdataene viste en svak økning over tid. Vi brukte scatter plots og sammenligning nedenfor for å undersøke sammenhenger."
   ]
  },
  {
   "cell_type": "code",
   "execution_count": null,
   "metadata": {},
   "outputs": [],
   "source": [
    "# Last inn df2_data.json (værdata)\n",
    "with open(\"../data/df2_data.json\", \"r\", encoding=\"utf-8\") as file:\n",
    "    df2 = json.load(file)\n",
    "\n",
    "# Lag temp_df for temperatur\n",
    "temp_df = pd.DataFrame({\n",
    "    \"referenceTime\": pd.to_datetime(list(df2[\"referenceTime\"].values()), unit=\"ms\"),\n",
    "    \"value\": list(df2[\"mean(air_temperature P1D)\"].values())\n",
    "})\n",
    "\n",
    "# Last inn luftkvalitetsdata for NOx\n",
    "with open(\"../data/df1_data.json\", \"r\", encoding=\"utf-8\") as file:\n",
    "    df1 = json.load(file)\n",
    "\n",
    "# ---- Korrelasjonsanalyse ----\n",
    "\n",
    "# Temperatur per dag\n",
    "temp_per_day = temp_df.groupby(temp_df['referenceTime'].dt.date)['value'].mean()\n",
    "\n",
    "# NOx per dag fra df1\n",
    "nox_per_day = pd.Series(df1[\"NOx\"])\n",
    "nox_per_day.index = pd.to_datetime([pd.to_datetime(ts, unit=\"ms\").date() for ts in df1[\"date\"].values()])\n",
    "\n",
    "# Felles datoer\n",
    "common_dates = temp_per_day.index.intersection(nox_per_day.index)\n",
    "\n",
    "# Juster seriene\n",
    "temp_aligned = temp_per_day.loc[common_dates]\n",
    "nox_aligned = nox_per_day.loc[common_dates]\n",
    "\n",
    "# Fjern NaN og beregn korrelasjon\n",
    "mask = (~temp_aligned.isna()) & (~nox_aligned.isna())\n",
    "korrelasjon = temp_aligned[mask].corr(nox_aligned[mask])\n",
    "\n",
    "print(f\"Korrelasjon mellom temperatur og NOx: {korrelasjon:.2f}\")\n"
   ]
  },
  {
   "cell_type": "code",
   "execution_count": null,
   "metadata": {},
   "outputs": [],
   "source": [
    "# Eksempel: Sjekk korrelasjon mellom temperatur og NOx\n",
    "\n",
    "# Bruk temp_df for temperatur og data for NOx\n",
    "# Vi må aggregere temperatur per dag og matche med NOx per dag\n",
    "\n",
    "# Gjennomsnittstemperatur per dag\n",
    "temp_per_day = temp_df.groupby(temp_df['referenceTime'].dt.date)['value'].mean()\n",
    "\n",
    "# NOx per dag fra data\n",
    "nox_per_day = pd.Series(data[\"NOx\"])\n",
    "nox_per_day.index = pd.to_datetime([pd.to_datetime(ts, unit=\"ms\").date() for ts in data[\"date\"].values()])\n",
    "\n",
    "# Felles datoer\n",
    "common_dates = temp_per_day.index.intersection(nox_per_day.index)\n",
    "\n",
    "# Lag serier med felles datoer\n",
    "temp_aligned = temp_per_day.loc[common_dates]\n",
    "nox_aligned = nox_per_day.loc[common_dates]\n",
    "\n",
    "# Fjern eventuelle NaN-verdier\n",
    "mask = (~temp_aligned.isna()) & (~nox_aligned.isna())\n",
    "korrelasjon = temp_aligned[mask].corr(nox_aligned[mask])\n",
    "\n",
    "print(f\"Korrelasjon mellom temperatur og NOx: {korrelasjon:.2f}\")"
   ]
  },
  {
   "cell_type": "code",
   "execution_count": null,
   "metadata": {},
   "outputs": [],
   "source": [
    "wind_df = pd.DataFrame([\n",
    "\td for d in brukbar_data if d['elementId'] == 'mean(wind_speed P1D)'\n",
    "])\n",
    "wind_df['referenceTime'] = pd.to_datetime(wind_df['referenceTime'])\n",
    "wind_df['value'] = pd.to_numeric(wind_df['value'], errors='coerce')\n",
    "\n",
    "wind_per_day = wind_df.groupby(wind_df['referenceTime'].dt.date)['value'].mean()\n",
    "nox_per_day = pd.Series(data[\"NOx\"])\n",
    "nox_per_day.index = pd.to_datetime([pd.to_datetime(ts, unit=\"ms\").date() for ts in data[\"date\"].values()])\n",
    "common_dates = wind_per_day.index.intersection(nox_per_day.index)\n",
    "wind_aligned = wind_per_day.loc[common_dates]\n",
    "nox_aligned = nox_per_day.loc[common_dates]\n",
    "mask = (~wind_aligned.isna()) & (~nox_aligned.isna())\n",
    "X = wind_aligned[mask].values.reshape(-1, 1)\n",
    "y = nox_aligned[mask].values\n",
    "model = LinearRegression()\n",
    "model.fit(X, y)\n",
    "r2 = model.score(X, y)\n",
    "print(f\"R^2 mellom vindstyrke og NOx: {r2:.2f}\")"
   ]
  },
  {
   "cell_type": "code",
   "execution_count": null,
   "metadata": {},
   "outputs": [],
   "source": [
    "# Opprett precip_df fra brukbar_data\n",
    "precip_df = pd.DataFrame([\n",
    "\td for d in brukbar_data if d['elementId'] == 'sum(precipitation_amount P1D)'\n",
    "])\n",
    "precip_df['referenceTime'] = pd.to_datetime(precip_df['referenceTime'])\n",
    "precip_df['value'] = pd.to_numeric(precip_df['value'], errors='coerce')\n",
    "\n",
    "precip_per_day = precip_df.groupby(precip_df['referenceTime'].dt.date)['value'].mean()\n",
    "pm10_per_day = pd.Series(data[\"PM10\"])\n",
    "pm10_per_day.index = pd.to_datetime([pd.to_datetime(ts, unit=\"ms\").date() for ts in data[\"date\"].values()])\n",
    "common_dates = precip_per_day.index.intersection(pm10_per_day.index)\n",
    "precip_aligned = precip_per_day.loc[common_dates]\n",
    "pm10_aligned = pm10_per_day.loc[common_dates]\n",
    "mask = (~precip_aligned.isna()) & (~pm10_aligned.isna())\n",
    "X = precip_aligned[mask].values.reshape(-1, 1)\n",
    "y = pm10_aligned[mask].values\n",
    "model = LinearRegression()\n",
    "model.fit(X, y)\n",
    "r2 = model.score(X, y)\n",
    "print(f\"R^2 mellom nedbør og PM10: {r2:.2f}\")"
   ]
  },
  {
   "cell_type": "code",
   "execution_count": null,
   "metadata": {},
   "outputs": [],
   "source": [
    "import matplotlib.pyplot as plt\n",
    "\n",
    "# Temperatur vs NOx\n",
    "plt.figure(figsize=(6,4))\n",
    "plt.scatter(temp_aligned[mask], nox_aligned[mask], alpha=0.5)\n",
    "plt.xlabel(\"Temperatur (°C)\")\n",
    "plt.ylabel(\"NOx (mg/m³)\")\n",
    "plt.title(\"Scatterplot: Temperatur vs NOx\")\n",
    "plt.show()\n",
    "\n",
    "# Vindstyrke vs NOx\n",
    "plt.figure(figsize=(6,4))\n",
    "plt.scatter(wind_aligned[mask], nox_aligned[mask], alpha=0.5, color='orange')\n",
    "plt.xlabel(\"Vindstyrke (m/s)\")\n",
    "plt.ylabel(\"NOx (mg/m³)\")\n",
    "plt.title(\"Scatterplot: Vindstyrke vs NOx\")\n",
    "plt.show()"
   ]
  },
  {
   "cell_type": "markdown",
   "metadata": {},
   "source": [
    "Et scatter plot viser sammenhengen mellom to variabler. Hvis punktene danner et tydelig mønster (for eksempel en stigende eller synkende linje), tyder det på en sammenheng. Hvis punktene er spredt tilfeldig, er det liten eller ingen lineær sammenheng.\n",
    "\n",
    "For temperatur vs NOx: Hvis punktene er spredt uten mønster, støtter det at R² er nær 0.\n",
    "For vindstyrke vs NOx: Hvis punktene har en svak negativ trend, kan det tyde på at økt vind gir lavere NOx, men hvis de er spredt, er sammenhengen svak.\n",
    "Scatter plots hjelper deg å se om det er en visuell sammenheng, selv om R² er lav."
   ]
  },
  {
   "cell_type": "markdown",
   "metadata": {},
   "source": [
    "Merk at her skrives det i markdown, og ikke kode"
   ]
  },
  {
   "cell_type": "markdown",
   "metadata": {},
   "source": []
  }
 ],
 "metadata": {
  "kernelspec": {
   "display_name": "venvP",
   "language": "python",
   "name": "python3"
  },
  "language_info": {
   "codemirror_mode": {
    "name": "ipython",
    "version": 3
   },
   "file_extension": ".py",
   "mimetype": "text/x-python",
   "name": "python",
   "nbconvert_exporter": "python",
   "pygments_lexer": "ipython3",
   "version": "3.11.9"
  }
 },
 "nbformat": 4,
 "nbformat_minor": 2
}
