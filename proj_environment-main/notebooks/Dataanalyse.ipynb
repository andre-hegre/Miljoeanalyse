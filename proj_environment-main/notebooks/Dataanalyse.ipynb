{
 "cells": [
  {
   "cell_type": "markdown",
   "metadata": {},
   "source": [
    "### Oppgave 4: Dataanalyse\n",
    "\n",
    "I denne delen av prosjektet skal dere bruke verktøy som NumPy, Pandas, Matplotlib osv. til å beregne statistiske mål som gjennomsnitt, median og standardavvik, som er essensielle for å forstå datakvaliteten og identifisere trender. Videre vil dere implementere enkle statistiske analyser for å avdekke mønstre i dataene, noe som kan gi innsikt i miljøforholdene over tid. Denne analysen vil danne grunnlaget for videre visualisering og prediktiv analyse, og bidra til en dypere forståelse av de miljømessige faktorene som påvirker samfunnet.\n",
    "\n",
    "*Vurderingskriterier:*\n",
    "\n",
    "1. Hvordan kan du bruke NumPy og Pandas til å beregne gjennomsnitt, median og standardavvik for de innsamlede dataene, og hvorfor er disse statistiske målene viktige?\n",
    "2. Kan du gi et eksempel på hvordan du vil implementere en enkel statistisk analyse for å undersøke sammenhengen mellom to variabler i datasettet?\n",
    "3. Hvordan planlegger du å håndtere eventuelle skjevheter i dataene under analysen, og hvilke metoder vil du bruke for å sikre at analysen er pålitelig?\n",
    "4. Hvilke visualiseringer vil du lage for å støtte analysen din, og hvordan vil disse visualiseringene hjelpe deg med å formidle funnene dine?"
   ]
  },
  {
   "cell_type": "code",
   "execution_count": 1,
   "metadata": {},
   "outputs": [],
   "source": [
    "import json\n",
    "import pandas as pd\n",
    "import matplotlib.pyplot as plt\n",
    "import sys\n",
    "\n",
    "sys.path.append(\"../src\")\n",
    "\n",
    "from funksjoner import beregn_statistikk\n",
    "\n",
    "\n",
    "path_df1 = \"../data/df1_data.json\"\n",
    "path_df2 = \"../data/df2_data.json\"\n",
    "\n",
    "tid_df1 = \"date\"\n",
    "tid_df2 = \"referenceTime\"\n",
    "\n",
    "\n",
    "def les_data(file_path, variable, tid):\n",
    "    with open(file_path, \"r\", encoding=\"utf-8\") as file:\n",
    "        raw_data = json.load(file)\n",
    "    return pd.DataFrame({\n",
    "        tid: pd.to_datetime(list(raw_data[tid].values()), unit=\"ms\"),\n",
    "        \"value\": list(raw_data[variable].values())\n",
    "    })"
   ]
  },
  {
   "cell_type": "code",
   "execution_count": null,
   "metadata": {},
   "outputs": [
    {
     "name": "stdout",
     "output_type": "stream",
     "text": [
      "Gjennomsnittstemperatur: 13.18 °C\n",
      "Median: 14.18 °C\n",
      "Standardavvik: 5.52 °C\n"
     ]
    }
   ],
   "source": [
    "# Leser temperaturdata og beregner statistikk\n",
    "df = les_data(path_df2, \"mean(air_temperature P1D)\", tid_df2)\n",
    "stat = beregn_statistikk(df, kolonne=\"value\", tidskolonne=\"referenceTime\")\n",
    "\n",
    "# Skriv ut resultatene\n",
    "print(f\"Gjennomsnittstemperatur: {stat['gjennomsnitt']:.2f} °C\")\n",
    "print(f\"Median: {stat['median']:.2f} °C\")\n",
    "print(f\"Standardavvik: {stat['standardavvik']:.2f} °C\")"
   ]
  },
  {
   "cell_type": "code",
   "execution_count": null,
   "metadata": {},
   "outputs": [
    {
     "name": "stdout",
     "output_type": "stream",
     "text": [
      "Gjennomsnitt relativ luftfuktighet: 63.30 %\n",
      "Median: 63.00 %\n",
      "Standardavvik: 16.17 %\n"
     ]
    }
   ],
   "source": [
    "df = les_data(path_df2, \"mean(relative_humidity P1D)\", tid_df2)\n",
    "stat = beregn_statistikk(df, kolonne=\"value\", tidskolonne=tid_df2)\n",
    "\n",
    "print(f\"Gjennomsnitt relativ luftfuktighet: {stat['gjennomsnitt']:.2f} %\")\n",
    "print(f\"Median: {stat['median']:.2f} %\")\n",
    "print(f\"Standardavvik: {stat['standardavvik']:.2f} %\")"
   ]
  },
  {
   "cell_type": "code",
   "execution_count": 4,
   "metadata": {},
   "outputs": [
    {
     "name": "stdout",
     "output_type": "stream",
     "text": [
      "Gjennomsnittlig nedbør: 2.50 mm\n",
      "Median: 0.20 mm\n",
      "Standardavvik: 5.06 mm\n"
     ]
    }
   ],
   "source": [
    "df = les_data(path_df2, \"sum(precipitation_amount P1D)\",tid_df2)\n",
    "stat = beregn_statistikk(df, kolonne=\"value\", tidskolonne=tid_df2)\n",
    "\n",
    "print(f\"Gjennomsnittlig nedbør: {stat['gjennomsnitt']:.2f} mm\")\n",
    "print(f\"Median: {stat['median']:.2f} mm\")\n",
    "print(f\"Standardavvik: {stat['standardavvik']:.2f} mm\")"
   ]
  },
  {
   "cell_type": "code",
   "execution_count": null,
   "metadata": {},
   "outputs": [
    {
     "name": "stdout",
     "output_type": "stream",
     "text": [
      "Gjennomsnittlig vindhastighet: 2.83 m/s\n",
      "Median: 2.70 m/s\n",
      "Standardavvik: 0.87 m/s\n"
     ]
    }
   ],
   "source": [
    "df = les_data(path_df2, \"mean(wind_speed P1D)\",tid_df2)\n",
    "stat = beregn_statistikk(df, kolonne=\"value\", tidskolonne=tid_df2)\n",
    "\n",
    "print(f\"Gjennomsnittlig vindhastighet: {stat['gjennomsnitt']:.2f} m/s\")\n",
    "print(f\"Median: {stat['median']:.2f} m/s\")\n",
    "print(f\"Standardavvik: {stat['standardavvik']:.2f} m/s\")"
   ]
  },
  {
   "cell_type": "markdown",
   "metadata": {},
   "source": [
    "### Ulik variabel for tid\n",
    "\n",
    "Lager en ny gjenbrukbar les funksjon for df1_data"
   ]
  },
  {
   "cell_type": "code",
   "execution_count": 6,
   "metadata": {},
   "outputs": [
    {
     "name": "stdout",
     "output_type": "stream",
     "text": [
      "Gjennomsnitt CO: 0.20 mg/m³\n",
      "Median: 0.20 mg/m³\n",
      "Standardavvik: 0.11 mg/m³\n"
     ]
    }
   ],
   "source": [
    "df = les_data(path_df1, \"CO\", tid_df1)\n",
    "stat = beregn_statistikk(df, kolonne=\"value\", tidskolonne=tid_df1)\n",
    "\n",
    "print(f\"Gjennomsnitt CO: {stat['gjennomsnitt']:.2f} mg/m³\")\n",
    "print(f\"Median: {stat['median']:.2f} mg/m³\")\n",
    "print(f\"Standardavvik: {stat['standardavvik']:.2f} mg/m³\")"
   ]
  },
  {
   "cell_type": "code",
   "execution_count": null,
   "metadata": {},
   "outputs": [
    {
     "name": "stdout",
     "output_type": "stream",
     "text": [
      "Gjennomsnitt NOx: 13.60 mg/m³\n",
      "Median: 12.23 mg/m³\n",
      "Standardavvik: 6.51 mg/m³\n"
     ]
    }
   ],
   "source": [
    "df = les_data(path_df1, \"NOx\", tid_df1)\n",
    "stat = beregn_statistikk(df, kolonne=\"value\", tidskolonne=tid_df1)\n",
    "\n",
    "print(f\"Gjennomsnitt NOx: {stat['gjennomsnitt']:.2f} mg/m³\")\n",
    "print(f\"Median: {stat['median']:.2f} mg/m³\")\n",
    "print(f\"Standardavvik: {stat['standardavvik']:.2f} mg/m³\")"
   ]
  },
  {
   "cell_type": "code",
   "execution_count": 8,
   "metadata": {},
   "outputs": [
    {
     "name": "stdout",
     "output_type": "stream",
     "text": [
      "Gjennomsnitt PM10: 11.31 mg/m³\n",
      "Median: 10.00 mg/m³\n",
      "Standardavvik: 6.64 mg/m³\n"
     ]
    }
   ],
   "source": [
    "df = les_data(path_df1, \"PM10\", tid_df1)\n",
    "stat = beregn_statistikk(df, kolonne=\"value\", tidskolonne=tid_df1)\n",
    "\n",
    "print(f\"Gjennomsnitt PM10: {stat['gjennomsnitt']:.2f} mg/m³\")\n",
    "print(f\"Median: {stat['median']:.2f} mg/m³\")\n",
    "print(f\"Standardavvik: {stat['standardavvik']:.2f} mg/m³\")"
   ]
  },
  {
   "cell_type": "code",
   "execution_count": 9,
   "metadata": {},
   "outputs": [
    {
     "name": "stdout",
     "output_type": "stream",
     "text": [
      "Gjennomsnitt PM2.5: 5.17 mg/m³\n",
      "Median: 4.59 mg/m³\n",
      "Standardavvik: 2.80 mg/m³\n"
     ]
    }
   ],
   "source": [
    "df = les_data(path_df1, \"PM2.5\", tid_df1)\n",
    "stat = beregn_statistikk(df, kolonne=\"value\", tidskolonne=tid_df1)\n",
    "\n",
    "print(f\"Gjennomsnitt PM2.5: {stat['gjennomsnitt']:.2f} mg/m³\")\n",
    "print(f\"Median: {stat['median']:.2f} mg/m³\")\n",
    "print(f\"Standardavvik: {stat['standardavvik']:.2f} mg/m³\")"
   ]
  },
  {
   "cell_type": "markdown",
   "metadata": {},
   "source": [
    "Ved hjelp av Pandas og NumPy ble det beregnet sentraltendensmål som gjennomsnitt og median, samt standardavvik for ulike vær- og luftkvalitetsvariabler. Gjennomsnittet gir en indikasjon på det overordnede nivået i dataserien, mens medianen gir et mer robust estimat i tilfeller med skjevheter eller ekstreme verdier. Standardavviket benyttes for å vurdere graden av variasjon i observasjonene. Disse statistiske målene bidrar til å vurdere datakvalitet, avdekke mønstre og forberede videre analyser som visualisering, sammenligninger og korrelasjonsvurderinger."
   ]
  },
  {
   "cell_type": "markdown",
   "metadata": {},
   "source": [
    "### Statistisk analyse for å undersøke sammenhengen mellom to variabler i datasettet\n",
    "\n",
    "Vi brukte scatter plots og sammenligning nedenfor for å undersøke sammenhenger."
   ]
  },
  {
   "cell_type": "code",
   "execution_count": null,
   "metadata": {},
   "outputs": [
    {
     "name": "stdout",
     "output_type": "stream",
     "text": [
      "Korrelasjon mellom temperatur og NOx: -0.05\n"
     ]
    }
   ],
   "source": [
    "# Last inn df2_data.json (værdata)\n",
    "with open(\"../data/df2_data.json\", \"r\", encoding=\"utf-8\") as file:\n",
    "    df2 = json.load(file)\n",
    "\n",
    "# Lag temp_df for temperatur\n",
    "temp_df = pd.DataFrame({\n",
    "    \"referenceTime\": pd.to_datetime(list(df2[\"referenceTime\"].values()), unit=\"ms\"),\n",
    "    \"value\": list(df2[\"mean(air_temperature P1D)\"].values())\n",
    "})\n",
    "\n",
    "# Last inn luftkvalitetsdata for NOx\n",
    "with open(\"../data/df1_data.json\", \"r\", encoding=\"utf-8\") as file:\n",
    "    df1 = json.load(file)\n",
    "\n",
    "# ---- Korrelasjonsanalyse ----\n",
    "\n",
    "# Temperatur per dag\n",
    "temp_per_day = temp_df.groupby(temp_df['referenceTime'].dt.date)['value'].mean()\n",
    "\n",
    "# NOx per dag fra df1\n",
    "nox_per_day = pd.Series(df1[\"NOx\"])\n",
    "nox_per_day.index = pd.to_datetime([pd.to_datetime(ts, unit=\"ms\").date() for ts in df1[\"date\"].values()])\n",
    "\n",
    "# Felles datoer\n",
    "common_dates = temp_per_day.index.intersection(nox_per_day.index)\n",
    "\n",
    "# Juster seriene\n",
    "temp_aligned = temp_per_day.loc[common_dates]\n",
    "nox_aligned = nox_per_day.loc[common_dates]\n",
    "\n",
    "# Fjern NaN og beregn korrelasjon\n",
    "mask = (~temp_aligned.isna()) & (~nox_aligned.isna())\n",
    "korrelasjon = temp_aligned[mask].corr(nox_aligned[mask])\n",
    "\n",
    "print(f\"Korrelasjon mellom temperatur og NOx: {korrelasjon:.2f}\")"
   ]
  },
  {
   "cell_type": "code",
   "execution_count": 17,
   "metadata": {},
   "outputs": [
    {
     "ename": "NameError",
     "evalue": "name 'brukbar_data' is not defined",
     "output_type": "error",
     "traceback": [
      "\u001b[31m---------------------------------------------------------------------------\u001b[39m",
      "\u001b[31mNameError\u001b[39m                                 Traceback (most recent call last)",
      "\u001b[36mCell\u001b[39m\u001b[36m \u001b[39m\u001b[32mIn[17]\u001b[39m\u001b[32m, line 2\u001b[39m\n\u001b[32m      1\u001b[39m wind_df = pd.DataFrame([\n\u001b[32m----> \u001b[39m\u001b[32m2\u001b[39m \td \u001b[38;5;28;01mfor\u001b[39;00m d \u001b[38;5;129;01min\u001b[39;00m \u001b[43mbrukbar_data\u001b[49m \u001b[38;5;28;01mif\u001b[39;00m d[\u001b[33m'\u001b[39m\u001b[33melementId\u001b[39m\u001b[33m'\u001b[39m] == \u001b[33m'\u001b[39m\u001b[33mmean(wind_speed P1D)\u001b[39m\u001b[33m'\u001b[39m\n\u001b[32m      3\u001b[39m ])\n\u001b[32m      4\u001b[39m wind_df[\u001b[33m'\u001b[39m\u001b[33mreferenceTime\u001b[39m\u001b[33m'\u001b[39m] = pd.to_datetime(wind_df[\u001b[33m'\u001b[39m\u001b[33mreferenceTime\u001b[39m\u001b[33m'\u001b[39m])\n\u001b[32m      5\u001b[39m wind_df[\u001b[33m'\u001b[39m\u001b[33mvalue\u001b[39m\u001b[33m'\u001b[39m] = pd.to_numeric(wind_df[\u001b[33m'\u001b[39m\u001b[33mvalue\u001b[39m\u001b[33m'\u001b[39m], errors=\u001b[33m'\u001b[39m\u001b[33mcoerce\u001b[39m\u001b[33m'\u001b[39m)\n",
      "\u001b[31mNameError\u001b[39m: name 'brukbar_data' is not defined"
     ]
    }
   ],
   "source": [
    "wind_df = pd.DataFrame([\n",
    "\td for d in brukbar_data if d['elementId'] == 'mean(wind_speed P1D)'\n",
    "])\n",
    "wind_df['referenceTime'] = pd.to_datetime(wind_df['referenceTime'])\n",
    "wind_df['value'] = pd.to_numeric(wind_df['value'], errors='coerce')\n",
    "\n",
    "wind_per_day = wind_df.groupby(wind_df['referenceTime'].dt.date)['value'].mean()\n",
    "nox_per_day = pd.Series(data[\"NOx\"])\n",
    "nox_per_day.index = pd.to_datetime([pd.to_datetime(ts, unit=\"ms\").date() for ts in data[\"date\"].values()])\n",
    "common_dates = wind_per_day.index.intersection(nox_per_day.index)\n",
    "wind_aligned = wind_per_day.loc[common_dates]\n",
    "nox_aligned = nox_per_day.loc[common_dates]\n",
    "mask = (~wind_aligned.isna()) & (~nox_aligned.isna())\n",
    "X = wind_aligned[mask].values.reshape(-1, 1)\n",
    "y = nox_aligned[mask].values\n",
    "model = LinearRegression()\n",
    "model.fit(X, y)\n",
    "r2 = model.score(X, y)\n",
    "print(f\"R^2 mellom vindstyrke og NOx: {r2:.2f}\")"
   ]
  },
  {
   "cell_type": "code",
   "execution_count": 15,
   "metadata": {},
   "outputs": [
    {
     "ename": "NameError",
     "evalue": "name 'brukbar_data' is not defined",
     "output_type": "error",
     "traceback": [
      "\u001b[31m---------------------------------------------------------------------------\u001b[39m",
      "\u001b[31mNameError\u001b[39m                                 Traceback (most recent call last)",
      "\u001b[36mCell\u001b[39m\u001b[36m \u001b[39m\u001b[32mIn[15]\u001b[39m\u001b[32m, line 3\u001b[39m\n\u001b[32m      1\u001b[39m \u001b[38;5;66;03m# Opprett precip_df fra brukbar_data\u001b[39;00m\n\u001b[32m      2\u001b[39m precip_df = pd.DataFrame([\n\u001b[32m----> \u001b[39m\u001b[32m3\u001b[39m \td \u001b[38;5;28;01mfor\u001b[39;00m d \u001b[38;5;129;01min\u001b[39;00m \u001b[43mbrukbar_data\u001b[49m \u001b[38;5;28;01mif\u001b[39;00m d[\u001b[33m'\u001b[39m\u001b[33melementId\u001b[39m\u001b[33m'\u001b[39m] == \u001b[33m'\u001b[39m\u001b[33msum(precipitation_amount P1D)\u001b[39m\u001b[33m'\u001b[39m\n\u001b[32m      4\u001b[39m ])\n\u001b[32m      5\u001b[39m precip_df[\u001b[33m'\u001b[39m\u001b[33mreferenceTime\u001b[39m\u001b[33m'\u001b[39m] = pd.to_datetime(precip_df[\u001b[33m'\u001b[39m\u001b[33mreferenceTime\u001b[39m\u001b[33m'\u001b[39m])\n\u001b[32m      6\u001b[39m precip_df[\u001b[33m'\u001b[39m\u001b[33mvalue\u001b[39m\u001b[33m'\u001b[39m] = pd.to_numeric(precip_df[\u001b[33m'\u001b[39m\u001b[33mvalue\u001b[39m\u001b[33m'\u001b[39m], errors=\u001b[33m'\u001b[39m\u001b[33mcoerce\u001b[39m\u001b[33m'\u001b[39m)\n",
      "\u001b[31mNameError\u001b[39m: name 'brukbar_data' is not defined"
     ]
    }
   ],
   "source": [
    "# Opprett precip_df fra brukbar_data\n",
    "precip_df = pd.DataFrame([\n",
    "\td for d in brukbar_data if d['elementId'] == 'sum(precipitation_amount P1D)'\n",
    "])\n",
    "precip_df['referenceTime'] = pd.to_datetime(precip_df['referenceTime'])\n",
    "precip_df['value'] = pd.to_numeric(precip_df['value'], errors='coerce')\n",
    "\n",
    "precip_per_day = precip_df.groupby(precip_df['referenceTime'].dt.date)['value'].mean()\n",
    "pm10_per_day = pd.Series(data[\"PM10\"])\n",
    "pm10_per_day.index = pd.to_datetime([pd.to_datetime(ts, unit=\"ms\").date() for ts in data[\"date\"].values()])\n",
    "common_dates = precip_per_day.index.intersection(pm10_per_day.index)\n",
    "precip_aligned = precip_per_day.loc[common_dates]\n",
    "pm10_aligned = pm10_per_day.loc[common_dates]\n",
    "mask = (~precip_aligned.isna()) & (~pm10_aligned.isna())\n",
    "X = precip_aligned[mask].values.reshape(-1, 1)\n",
    "y = pm10_aligned[mask].values\n",
    "model = LinearRegression()\n",
    "model.fit(X, y)\n",
    "r2 = model.score(X, y)\n",
    "print(f\"R^2 mellom nedbør og PM10: {r2:.2f}\")"
   ]
  },
  {
   "cell_type": "code",
   "execution_count": 16,
   "metadata": {},
   "outputs": [
    {
     "data": {
      "image/png": "[encoded data removed]",
      "text/plain": [
       "<Figure size 600x400 with 1 Axes>"
      ]
     },
     "metadata": {},
     "output_type": "display_data"
    },
    {
     "ename": "NameError",
     "evalue": "name 'wind_aligned' is not defined",
     "output_type": "error",
     "traceback": [
      "\u001b[31m---------------------------------------------------------------------------\u001b[39m",
      "\u001b[31mNameError\u001b[39m                                 Traceback (most recent call last)",
      "\u001b[36mCell\u001b[39m\u001b[36m \u001b[39m\u001b[32mIn[16]\u001b[39m\u001b[32m, line 13\u001b[39m\n\u001b[32m     11\u001b[39m \u001b[38;5;66;03m# Vindstyrke vs NOx\u001b[39;00m\n\u001b[32m     12\u001b[39m plt.figure(figsize=(\u001b[32m6\u001b[39m,\u001b[32m4\u001b[39m))\n\u001b[32m---> \u001b[39m\u001b[32m13\u001b[39m plt.scatter(\u001b[43mwind_aligned\u001b[49m[mask], nox_aligned[mask], alpha=\u001b[32m0.5\u001b[39m, color=\u001b[33m'\u001b[39m\u001b[33morange\u001b[39m\u001b[33m'\u001b[39m)\n\u001b[32m     14\u001b[39m plt.xlabel(\u001b[33m\"\u001b[39m\u001b[33mVindstyrke (m/s)\u001b[39m\u001b[33m\"\u001b[39m)\n\u001b[32m     15\u001b[39m plt.ylabel(\u001b[33m\"\u001b[39m\u001b[33mNOx (mg/m³)\u001b[39m\u001b[33m\"\u001b[39m)\n",
      "\u001b[31mNameError\u001b[39m: name 'wind_aligned' is not defined"
     ]
    },
    {
     "data": {
      "text/plain": [
       "<Figure size 600x400 with 0 Axes>"
      ]
     },
     "metadata": {},
     "output_type": "display_data"
    }
   ],
   "source": [
    "import matplotlib.pyplot as plt\n",
    "\n",
    "# Temperatur vs NOx\n",
    "plt.figure(figsize=(6,4))\n",
    "plt.scatter(temp_aligned[mask], nox_aligned[mask], alpha=0.5)\n",
    "plt.xlabel(\"Temperatur (°C)\")\n",
    "plt.ylabel(\"NOx (mg/m³)\")\n",
    "plt.title(\"Scatterplot: Temperatur vs NOx\")\n",
    "plt.show()\n",
    "\n",
    "# Vindstyrke vs NOx\n",
    "plt.figure(figsize=(6,4))\n",
    "plt.scatter(wind_aligned[mask], nox_aligned[mask], alpha=0.5, color='orange')\n",
    "plt.xlabel(\"Vindstyrke (m/s)\")\n",
    "plt.ylabel(\"NOx (mg/m³)\")\n",
    "plt.title(\"Scatterplot: Vindstyrke vs NOx\")\n",
    "plt.show()"
   ]
  },
  {
   "cell_type": "markdown",
   "metadata": {},
   "source": [
    "Et scatter plot viser sammenhengen mellom to variabler. Hvis punktene danner et tydelig mønster (for eksempel en stigende eller synkende linje), tyder det på en sammenheng. Hvis punktene er spredt tilfeldig, er det liten eller ingen lineær sammenheng.\n",
    "\n",
    "For temperatur vs NOx: Hvis punktene er spredt uten mønster, støtter det at R² er nær 0.\n",
    "For vindstyrke vs NOx: Hvis punktene har en svak negativ trend, kan det tyde på at økt vind gir lavere NOx, men hvis de er spredt, er sammenhengen svak.\n",
    "Scatter plots hjelper deg å se om det er en visuell sammenheng, selv om R² er lav."
   ]
  },
  {
   "cell_type": "markdown",
   "metadata": {},
   "source": [
    "Merk at her skrives det i markdown, og ikke kode"
   ]
  }
 ],
 "metadata": {
  "kernelspec": {
   "display_name": "venvP",
   "language": "python",
   "name": "python3"
  },
  "language_info": {
   "codemirror_mode": {
    "name": "ipython",
    "version": 3
   },
   "file_extension": ".py",
   "mimetype": "text/x-python",
   "name": "python",
   "nbconvert_exporter": "python",
   "pygments_lexer": "ipython3",
   "version": "3.11.9"
  }
 },
 "nbformat": 4,
 "nbformat_minor": 2
}
