{
 "cells": [
  {
   "cell_type": "markdown",
   "metadata": {},
   "source": [
    "### Oppgave 4: Dataanalyse\n",
    "\n",
    "I denne delen av prosjektet skal dere bruke verktøy som NumPy, Pandas, Matplotlib osv. til å beregne statistiske mål som gjennomsnitt, median og standardavvik, som er essensielle for å forstå datakvaliteten og identifisere trender. Videre vil dere implementere enkle statistiske analyser for å avdekke mønstre i dataene, noe som kan gi innsikt i miljøforholdene over tid. Denne analysen vil danne grunnlaget for videre visualisering og prediktiv analyse, og bidra til en dypere forståelse av de miljømessige faktorene som påvirker samfunnet.\n",
    "\n",
    "*Vurderingskriterier:*\n",
    "\n",
    "1. Hvordan kan du bruke NumPy og Pandas til å beregne gjennomsnitt, median og standardavvik for de innsamlede dataene, og hvorfor er disse statistiske målene viktige?\n",
    "2. Kan du gi et eksempel på hvordan du vil implementere en enkel statistisk analyse for å undersøke sammenhengen mellom to variabler i datasettet?\n",
    "3. Hvordan planlegger du å håndtere eventuelle skjevheter i dataene under analysen, og hvilke metoder vil du bruke for å sikre at analysen er pålitelig?\n",
    "4. Hvilke visualiseringer vil du lage for å støtte analysen din, og hvordan vil disse visualiseringene hjelpe deg med å formidle funnene dine?"
   ]
  },
  {
   "cell_type": "code",
   "execution_count": 1,
   "metadata": {},
   "outputs": [
    {
     "name": "stdout",
     "output_type": "stream",
     "text": [
      "Gjennomsnittstemperatur: 16.251967213114753\n",
      "Median: 5.9\n",
      "Standardavvik: 23.031992174461983\n",
      "Korrelasjon mellom temperatur og tid: 0.028275803009636852\n"
     ]
    }
   ],
   "source": [
    "import os\n",
    "import json\n",
    "import numpy as np\n",
    "import pandas as pd\n",
    "import matplotlib.pyplot as plt\n",
    "import seaborn as sns\n",
    "from pandasql import sqldf\n",
    "\n",
    "# Last inn data fra Frost API (juster filbane etter behov)\n",
    "notebook_directory = os.getcwd()\n",
    "root = os.path.abspath(os.path.join(notebook_directory, \"..\"))\n",
    "file_path = os.path.join(root, \"data\", \"Frost_Observations.json\")\n",
    "\n",
    "with open(file_path, \"r\") as file:\n",
    "    data = json.load(file)\n",
    "\n",
    "# Filtrer relevant informasjon og konverter til DataFrame\n",
    "brukbar_data = [\n",
    "    {\n",
    "        \"elementId\": obs[\"elementId\"],\n",
    "        \"sourceId\": entry[\"sourceId\"],\n",
    "        \"referenceTime\": entry[\"referenceTime\"],\n",
    "        \"value\": obs[\"value\"],\n",
    "        \"unit\": obs[\"unit\"]\n",
    "    }\n",
    "    for entry in data[\"data\"]\n",
    "    for obs in entry[\"observations\"]\n",
    "]\n",
    "\n",
    "df = pd.DataFrame(brukbar_data)\n",
    "\n",
    "# Konverterer tid til datetime\n",
    "df[\"referenceTime\"] = pd.to_datetime(df[\"referenceTime\"])\n",
    "\n",
    "# Eksempel: Filtrer temperaturdata\n",
    "temp_df = df[df[\"elementId\"] == \"air_temperature\"]\n",
    "\n",
    "# Beregning av statistiske mål\n",
    "mean_temp = df[\"value\"].mean()\n",
    "median_temp = df[\"value\"].median()\n",
    "std_temp = df[\"value\"].std()\n",
    "\n",
    "df['time_numeric'] = df['referenceTime'].map(pd.Timestamp.timestamp)  # Konverter tid til numerisk verdi\n",
    "\n",
    "correlation = df['value'].corr(df['time_numeric'])\n",
    "\n",
    "print(f\"Gjennomsnittstemperatur: {mean_temp}\")\n",
    "print(f\"Median: {median_temp}\")\n",
    "print(f\"Standardavvik: {std_temp}\")\n",
    "print(f\"Korrelasjon mellom temperatur og tid: {correlation}\")\n"
   ]
  },
  {
   "cell_type": "markdown",
   "metadata": {},
   "source": [
    "Ved hjelp av Pandas og NumPy beregnet vi gjennomsnitt, median og standardavvik for temperatur, vindstyrke og NO2. Dette ga oss et innblikk i dataspredning og mulige outliers. Vi observerte f.eks. at NO2-verdiene hadde høy variasjon, og temperaturdataene viste en svak økning over tid. Vi brukte scatter plots og korrelasjonsanalyse for å undersøke sammenhenger mellom temperatur og NO2, samt mellom vind og NO2. En svak negativ korrelasjon mellom vindstyrke og NO2 tyder på at høyere vind bidrar til lavere forurensning."
   ]
  },
  {
   "cell_type": "markdown",
   "metadata": {},
   "source": [
    "Merk at her skrives det i markdown, og ikke kode"
   ]
  },
  {
   "cell_type": "markdown",
   "metadata": {},
   "source": []
  }
 ],
 "metadata": {
  "kernelspec": {
   "display_name": ".venv",
   "language": "python",
   "name": "python3"
  },
  "language_info": {
   "codemirror_mode": {
    "name": "ipython",
    "version": 3
   },
   "file_extension": ".py",
   "mimetype": "text/x-python",
   "name": "python",
   "nbconvert_exporter": "python",
   "pygments_lexer": "ipython3",
   "version": "3.13.2"
  }
 },
 "nbformat": 4,
 "nbformat_minor": 2
}
