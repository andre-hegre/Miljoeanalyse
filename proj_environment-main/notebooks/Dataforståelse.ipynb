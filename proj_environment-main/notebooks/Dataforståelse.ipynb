{
 "cells": [
  {
   "cell_type": "markdown",
   "metadata": {},
   "source": [
    "# Her skal vi undersøke dataen hentet og bruke Pandas/SQL for å forstå strukturen"
   ]
  },
  {
   "cell_type": "markdown",
   "metadata": {},
   "source": [
    "For å hente filepath, må vi manuelt lage path, slik at alle kan åpne filen selv om den er på forskjellige plasser for hver av oss:"
   ]
  },
  {
   "cell_type": "code",
   "execution_count": 2,
   "metadata": {},
   "outputs": [],
   "source": [
    "import pandas as pd\n",
    "from pandasql import sqldf\n",
    "import os\n",
    "\n",
    "# Henter file path\n",
    "\n",
    "notebook_directory = os.getcwd()\n",
    "root = os.path.abspath(os.path.join(notebook_directory, \"..\"))\n",
    "file_path = os.path.join(root, \"data\", \"Frost_Observations\")\n",
    "\n"
   ]
  },
  {
   "cell_type": "markdown",
   "metadata": {},
   "source": [
    "Dataen vi hentet er laget med mange dictionaries, som igjen inneholder flere dictionaries. For å kun få ut relevant data kan vi filtrere gjennom python for enkelte \"entries\" i forskjellige dictionaries. Deretter kan vi gjøre det om til en dataframe ved bruk av pandas og se hvordan dataen ser ut"
   ]
  },
  {
   "cell_type": "code",
   "execution_count": 3,
   "metadata": {},
   "outputs": [
    {
     "name": "stdout",
     "output_type": "stream",
     "text": [
      "                                           elementId   sourceId             referenceTime  value     unit\n",
      "0                        mean(relative_humidity P1D)  SN18700:0  2020-07-01T00:00:00.000Z   66.0  percent\n",
      "1  boolean_clear_sky_weather(cloud_area_fraction ...  SN18700:0  2020-07-01T00:00:00.000Z    0.0      sum\n",
      "2                          mean(air_temperature P1D)  SN18700:0  2020-07-01T00:00:00.000Z   13.6     degC\n",
      "3                          mean(air_temperature P1D)  SN18700:0  2020-07-01T00:00:00.000Z   14.6     degC\n",
      "4                        mean(relative_humidity P1D)  SN18700:0  2020-07-02T00:00:00.000Z   63.0  percent\n"
     ]
    }
   ],
   "source": [
    "import json\n",
    "\n",
    "with open(file_path,\"r\") as fil: #leser filen og lagrer den som \"data\"\n",
    "    data=json.load(fil)\n",
    "\n",
    "# filtrerer dataen for bare det som er relevant til å analysere\n",
    "brukbar_data = [\n",
    "    {\n",
    "        \"elementId\": obs[\"elementId\"],\n",
    "        \"sourceId\": entry[\"sourceId\"],\n",
    "        \"referenceTime\": entry[\"referenceTime\"],\n",
    "        \"value\": obs[\"value\"],\n",
    "        \"unit\": obs[\"unit\"]\n",
    "    }\n",
    "    for entry in data[\"data\"]\n",
    "    for obs in entry[\"observations\"] \n",
    "]\n",
    "\n",
    "df=pd.DataFrame(brukbar_data) #Dataframe\n",
    "\n",
    "pd.set_option('display.max_columns', None) #justerer output display\n",
    "pd.set_option('display.width', 1000)\n",
    "print(df.head())"
   ]
  },
  {
   "cell_type": "markdown",
   "metadata": {},
   "source": [
    "Da har vi fått lagd en dataframe med pandas som viser relevant data. Det ser litt uryddig ut og det passer bedre å ha hver observasjon som kolonner og så verdiene nedover, så vi kan bruke pd.pivot til til å gjøre det mer ryddig. \n",
    "\n",
    "Men det at vi har 2 verdier for mean(air_temperature P1D) gjør at dette ikke fungerer. Foreløpig kan vi kombinere det ved å ta gjennomsnittsverdien av de 2 målte, slik at vi kan visualisere dataframen bedre. Vi kan bruke \"groupby\" funksjonen for å samle de 2 identiske \"mean(air_temperature P1D)\" og slå sammen verdiene med gjennomsnittet. "
   ]
  },
  {
   "cell_type": "code",
   "execution_count": 10,
   "metadata": {},
   "outputs": [
    {
     "name": "stdout",
     "output_type": "stream",
     "text": [
      "elementId             referenceTime  boolean_clear_sky_weather(cloud_area_fraction P1D)  mean(air_temperature P1D)  mean(relative_humidity P1D)\n",
      "0          2020-07-01T00:00:00.000Z                                                0.0                       14.10                         66.0\n",
      "1          2020-07-02T00:00:00.000Z                                                0.0                       13.75                         63.0\n",
      "2          2020-07-03T00:00:00.000Z                                                0.0                       12.85                         67.0\n",
      "3          2020-07-04T00:00:00.000Z                                                0.0                       13.20                         63.0\n",
      "4          2020-07-05T00:00:00.000Z                                                0.0                       14.15                         83.0\n"
     ]
    }
   ],
   "source": [
    "rader=[]\n",
    "\n",
    "# henter relevant data ved å iterere gjennom i forskjellige dictionaries\n",
    "for entry in data[\"data\"]:\n",
    "    referenceTime = entry[\"referenceTime\"]\n",
    "    for obs in entry[\"observations\"]:\n",
    "         rader.append({\n",
    "            \"referenceTime\": referenceTime,\n",
    "            \"elementId\": obs[\"elementId\"],\n",
    "            \"value\": obs[\"value\"],\n",
    "        })\n",
    "         \n",
    "df=pd.DataFrame(rader) #dataframe\n",
    "\n",
    "# slår sammen der det er 2 av mean(air_temperature P1D) og tar gjennomsnittet, \n",
    "# gjør pivot av dataframe, slik at kolonnene blir type observasjon\n",
    "\n",
    "df_gruppering = df.groupby([\"referenceTime\", \"elementId\"], as_index=False)[\"value\"].mean()\n",
    "df2=df_gruppering.pivot(index=\"referenceTime\",columns=\"elementId\",values=\"value\")\n",
    "df2=df2.reset_index()\n",
    "\n",
    "# lagrer df2 som json fil for videre bruk\n",
    "df2.to_json('../data/df2_data.json',indent=4)\n",
    "\n",
    "print(df2.head())"
   ]
  },
  {
   "cell_type": "markdown",
   "metadata": {},
   "source": [
    "Her ser vi dataen på en mer forståelig måte. Det er verdt å merke at \"boolean_clear_sky_weather(cloud_area_fraction P1D)\" er boolean verdier, så i datahåndteringen kan vi ta hensyn til det og omgjøre det fra float. "
   ]
  },
  {
   "cell_type": "markdown",
   "metadata": {},
   "source": [
    "## Bruker PANDAS SQL (sqldf) til å hente data fra DataFrame\n",
    "\n",
    "Nå som vi har en fungerende DataFrame, kan vi hente diverse type data og spesifikk data ved bruk av Pandas SQL/sqldf: \n",
    "\n",
    "1) Gjennomsnittlig temperatur for Juli i årene tilgjengelig\n",
    "2) Alle dager der 24 timers gjennomsnittstemperaturen er over 20 grader og der det ikke var skyete basert på \"boolean_clear_sky_weather...\""
   ]
  },
  {
   "cell_type": "code",
   "execution_count": 43,
   "metadata": {},
   "outputs": [
    {
     "name": "stdout",
     "output_type": "stream",
     "text": [
      "     År  avg_temperatur_juli\n",
      "0  2020            14.993548\n",
      "1  2021            19.930645\n",
      "2  2022            17.524194\n"
     ]
    }
   ],
   "source": [
    "pysqldf = lambda q: sqldf(q, globals())\n",
    "\n",
    "query = \"\"\"\n",
    "\n",
    "    SELECT strftime('%Y',referenceTime) AS År,\n",
    "    AVG(\"mean(air_temperature P1D)\") AS avg_temperatur_juli\n",
    "    FROM df2\n",
    "    WHERE strftime('%m',referenceTime) = '07'\n",
    "    GROUP BY År\n",
    "\"\"\"\n",
    "resultat=pysqldf(query)\n",
    "print(resultat)"
   ]
  },
  {
   "cell_type": "code",
   "execution_count": 57,
   "metadata": {},
   "outputs": [
    {
     "name": "stdout",
     "output_type": "stream",
     "text": [
      "              referenceTime  boolean_clear_sky_weather(cloud_area_fraction P1D)  mean(air_temperature P1D)  mean(relative_humidity P1D)\n",
      "0  2021-07-03T00:00:00.000Z                                                1.0                       22.75                         43.0\n",
      "1  2021-07-16T00:00:00.000Z                                                1.0                       22.75                         54.0\n",
      "2  2021-07-24T00:00:00.000Z                                                1.0                       21.20                         55.0\n",
      "3  2021-07-23T00:00:00.000Z                                                1.0                       21.00                         52.0\n"
     ]
    }
   ],
   "source": [
    "query2=\"\"\"\n",
    "    SELECT * FROM df2\n",
    "    WHERE \"mean(air_temperature P1D)\">=20.0\n",
    "    AND \"boolean_clear_sky_weather(cloud_area_fraction P1D)\" == 1.0\n",
    "    ORDER BY \"mean(air_temperature P1D)\" DESC;\n",
    "\"\"\"\n",
    "resultat=pysqldf(query2)\n",
    "print(resultat)"
   ]
  }
 ],
 "metadata": {
  "kernelspec": {
   "display_name": ".venv",
   "language": "python",
   "name": "python3"
  },
  "language_info": {
   "codemirror_mode": {
    "name": "ipython",
    "version": 3
   },
   "file_extension": ".py",
   "mimetype": "text/x-python",
   "name": "python",
   "nbconvert_exporter": "python",
   "pygments_lexer": "ipython3",
   "version": "3.13.2"
  }
 },
 "nbformat": 4,
 "nbformat_minor": 2
}
