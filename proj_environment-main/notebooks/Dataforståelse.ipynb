{
 "cells": [
  {
   "cell_type": "markdown",
   "metadata": {},
   "source": [
    "## Her skal vi undersøke dataen hentet og bruke Pandas/SQL for å forstå strukturen"
   ]
  },
  {
   "cell_type": "markdown",
   "metadata": {},
   "source": [
    "For å hente filepath, må vi manuelt lage path, slik at alle kan åpne filen selv om den er på forskjellige plasser for hver av oss:"
   ]
  },
  {
   "cell_type": "code",
   "execution_count": 11,
   "metadata": {},
   "outputs": [],
   "source": [
    "import pandas as pd\n",
    "from pandasql import sqldf\n",
    "import os\n",
    "\n",
    "# Henter file path\n",
    "\n",
    "notebook_directory = os.getcwd()\n",
    "root = os.path.abspath(os.path.join(notebook_directory, \"..\"))\n",
    "file_path = os.path.join(root, \"data\", \"Frost_Observations\")\n",
    "\n"
   ]
  },
  {
   "cell_type": "markdown",
   "metadata": {},
   "source": [
    "Dataen vi hentet er laget med mange dictionaries, som igjen inneholder flere dictionaries. For å kun få ut relevant data kan vi filtrere gjennom python for enkelte \"entries\" i forskjellige dictionaries. Deretter kan vi gjøre det om til en dataframe ved bruk av pandas og se hvordan dataen ser ut"
   ]
  },
  {
   "cell_type": "code",
   "execution_count": 24,
   "metadata": {},
   "outputs": [
    {
     "name": "stdout",
     "output_type": "stream",
     "text": [
      "                                           elementId   sourceId             referenceTime  value     unit\n",
      "0                        mean(relative_humidity P1D)  SN18700:0  2020-07-01T00:00:00.000Z   66.0  percent\n",
      "1  boolean_clear_sky_weather(cloud_area_fraction ...  SN18700:0  2020-07-01T00:00:00.000Z    0.0      sum\n",
      "2                          mean(air_temperature P1D)  SN18700:0  2020-07-01T00:00:00.000Z   13.6     degC\n",
      "3                          mean(air_temperature P1D)  SN18700:0  2020-07-01T00:00:00.000Z   14.6     degC\n",
      "4                        mean(relative_humidity P1D)  SN18700:0  2020-07-02T00:00:00.000Z   63.0  percent\n"
     ]
    }
   ],
   "source": [
    "import json\n",
    "import pandas\n",
    "\n",
    "with open(file_path,\"r\") as fil:\n",
    "    data=json.load(fil)\n",
    "\n",
    "brukbar_data = [\n",
    "    {\n",
    "        \"elementId\": obs[\"elementId\"],\n",
    "        \"sourceId\": entry[\"sourceId\"],\n",
    "        \"referenceTime\": entry[\"referenceTime\"],\n",
    "        \"value\": obs[\"value\"],\n",
    "        \"unit\": obs[\"unit\"]\n",
    "    }\n",
    "    for entry in data[\"data\"]\n",
    "    for obs in entry[\"observations\"] \n",
    "]\n",
    "\n",
    "df=pd.DataFrame(brukbar_data)\n",
    "pd.set_option('display.max_columns', None)\n",
    "pd.set_option('display.width', 1000)\n",
    "print(df.head())"
   ]
  }
 ],
 "metadata": {
  "kernelspec": {
   "display_name": "venvP",
   "language": "python",
   "name": "python3"
  },
  "language_info": {
   "codemirror_mode": {
    "name": "ipython",
    "version": 3
   },
   "file_extension": ".py",
   "mimetype": "text/x-python",
   "name": "python",
   "nbconvert_exporter": "python",
   "pygments_lexer": "ipython3",
   "version": "3.13.1"
  }
 },
 "nbformat": 4,
 "nbformat_minor": 2
}
