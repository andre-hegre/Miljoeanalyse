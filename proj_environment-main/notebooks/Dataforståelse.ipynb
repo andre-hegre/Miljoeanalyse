{
 "cells": [
  {
   "cell_type": "markdown",
   "metadata": {},
   "source": [
    "# Her skal vi undersøke dataen hentet og bruke Pandas/SQL for å forstå strukturen"
   ]
  },
  {
   "cell_type": "markdown",
   "metadata": {},
   "source": [
    "### Her begynner vi med å forstå dataen fra frost bedre, og gjøre det om til en pandas dataframe, slik at det blir lett å jobbe med videre. \n",
    "\n",
    "I tillegg skal vi se på hvordan vi kan bruke pandasql (sqldf) for å gjøre querys på dataen og filtrere gjennom lettvint. Vi begynner med å hente file_path"
   ]
  },
  {
   "cell_type": "code",
   "execution_count": 21,
   "metadata": {},
   "outputs": [],
   "source": [
    "import pandas as pd\n",
    "from pandasql import sqldf\n",
    "import os\n",
    "\n",
    "# Henter file path\n",
    "\n",
    "notebook_directory = os.getcwd()\n",
    "root = os.path.abspath(os.path.join(notebook_directory, \"..\"))\n",
    "file_path = os.path.join(root, \"data\", \"Frost_Observations.json\")\n",
    "\n"
   ]
  },
  {
   "cell_type": "markdown",
   "metadata": {},
   "source": [
    "Dataen vi hentet er laget med mange dictionaries, som igjen inneholder flere dictionaries. For å kun få ut relevant data kan vi filtrere gjennom python for enkelte \"entries\" i forskjellige dictionaries. Deretter kan vi gjøre det om til en dataframe ved bruk av pandas og se hvordan dataen ser ut"
   ]
  },
  {
   "cell_type": "code",
   "execution_count": 22,
   "metadata": {},
   "outputs": [
    {
     "name": "stdout",
     "output_type": "stream",
     "text": [
      "                       elementId   sourceId             referenceTime  value     unit\n",
      "0    mean(relative_humidity P1D)  SN18700:0  2020-04-01T00:00:00.000Z   56.0  percent\n",
      "1  sum(precipitation_amount P1D)  SN18700:0  2020-04-01T00:00:00.000Z    0.0       mm\n",
      "2  sum(precipitation_amount P1D)  SN18700:0  2020-04-01T00:00:00.000Z    0.0       mm\n",
      "3           mean(wind_speed P1D)  SN18700:0  2020-04-01T00:00:00.000Z    2.6      m/s\n",
      "4      mean(air_temperature P1D)  SN18700:0  2020-04-01T00:00:00.000Z    6.4     degC\n"
     ]
    }
   ],
   "source": [
    "import json\n",
    "\n",
    "with open(file_path,\"r\") as fil: #leser filen og lagrer den som \"data\"\n",
    "    data=json.load(fil)\n",
    "\n",
    "# filtrerer dataen for bare det som er relevant til å analysere\n",
    "brukbar_data = [\n",
    "    {\n",
    "        \"elementId\": obs[\"elementId\"],\n",
    "        \"sourceId\": entry[\"sourceId\"],\n",
    "        \"referenceTime\": entry[\"referenceTime\"],\n",
    "        \"value\": obs[\"value\"],\n",
    "        \"unit\": obs[\"unit\"]\n",
    "    }\n",
    "    for entry in data[\"data\"]\n",
    "    for obs in entry[\"observations\"] \n",
    "]\n",
    "\n",
    "df=pd.DataFrame(brukbar_data) #Dataframe\n",
    "\n",
    "pd.set_option('display.max_columns', None) #justerer output display\n",
    "pd.set_option('display.width', 1000)\n",
    "print(df.head())"
   ]
  },
  {
   "cell_type": "markdown",
   "metadata": {},
   "source": [
    "Da har vi fått lagd en dataframe med pandas som viser relevant data. Det ser litt uryddig ut og det passer bedre å ha hver observasjon som kolonner og så verdiene nedover, så vi kan bruke pd.pivot til til å gjøre det mer ryddig. \n",
    "\n",
    "Men det at vi har 2 verdier for mean(air_temperature P1D) og for sum(precipitation_amount P1D) gjør at dette ikke fungerer. Foreløpig kan vi kombinere det ved å ta gjennomsnittsverdien av de 2 målte, slik at vi kan visualisere dataframen bedre. Vi kan bruke \"groupby\" funksjonen for å samle de 2 identiske elementene og slå sammen verdiene med gjennomsnittet. "
   ]
  },
  {
   "cell_type": "code",
   "execution_count": 17,
   "metadata": {},
   "outputs": [
    {
     "name": "stdout",
     "output_type": "stream",
     "text": [
      "elementId             referenceTime  mean(air_temperature P1D)  mean(relative_humidity P1D)  mean(wind_speed P1D)  sum(precipitation_amount P1D)\n",
      "0          2020-04-01T00:00:00.000Z                       6.15                         56.0                   2.6                           0.00\n",
      "1          2020-04-02T00:00:00.000Z                       4.75                         63.0                   4.7                           0.35\n",
      "2          2020-04-03T00:00:00.000Z                       3.60                         36.0                   4.3                           0.35\n",
      "3          2020-04-04T00:00:00.000Z                       2.90                         49.0                   3.4                           0.00\n",
      "4          2020-04-05T00:00:00.000Z                       4.65                         90.0                   1.9                           1.10\n"
     ]
    }
   ],
   "source": [
    "rader=[]\n",
    "\n",
    "# henter relevant data ved å iterere gjennom i forskjellige dictionaries\n",
    "for entry in data[\"data\"]:\n",
    "    referenceTime = entry[\"referenceTime\"]\n",
    "    for obs in entry[\"observations\"]:\n",
    "         rader.append({\n",
    "            \"referenceTime\": referenceTime,\n",
    "            \"elementId\": obs[\"elementId\"],\n",
    "            \"value\": obs[\"value\"],\n",
    "        })\n",
    "         \n",
    "df=pd.DataFrame(rader) #dataframe\n",
    "\n",
    "# slår sammen der det er 2 av mean(air_temperature P1D) og tar gjennomsnittet, \n",
    "# gjør pivot av dataframe, slik at kolonnene blir type observasjon\n",
    "\n",
    "df_gruppering = df.groupby([\"referenceTime\", \"elementId\"], as_index=False)[\"value\"].mean()\n",
    "df2=df_gruppering.pivot(index=\"referenceTime\",columns=\"elementId\",values=\"value\")\n",
    "df2=df2.reset_index()\n",
    "print(df2.head())\n",
    "\n"
   ]
  },
  {
   "cell_type": "code",
   "execution_count": 18,
   "metadata": {},
   "outputs": [],
   "source": [
    "# lagrer df2 som json fil for videre bruk\n",
    "df2.to_json('../data/df2_data.json',indent=4)"
   ]
  },
  {
   "cell_type": "markdown",
   "metadata": {},
   "source": [
    "Her ser vi dataen på en mer forståelig måte. Det er verdt å merke at \"boolean_clear_sky_weather(cloud_area_fraction P1D)\" er boolean verdier, så i datahåndteringen kan vi ta hensyn til det og omgjøre det fra float. "
   ]
  },
  {
   "cell_type": "markdown",
   "metadata": {},
   "source": [
    "## Bruker PANDAS SQL (sqldf) til å hente data fra DataFrame\n",
    "\n",
    "Nå som vi har en fungerende DataFrame, kan vi hente diverse type data og spesifikk data ved bruk av Pandas SQL/sqldf: \n",
    "\n",
    "1) Gjennomsnittlig temperatur for Juli i årene tilgjengelig\n",
    "2) Alle dager der 24 timers gjennomsnittstemperaturen er over 20 grader og der det ikke var skyete basert på \"boolean_clear_sky_weather...\""
   ]
  },
  {
   "cell_type": "code",
   "execution_count": 19,
   "metadata": {},
   "outputs": [
    {
     "name": "stdout",
     "output_type": "stream",
     "text": [
      "     År  avg_temperatur_juli\n",
      "0  2020            14.993548\n",
      "1  2021            19.930645\n",
      "2  2022            17.524194\n",
      "3  2023            16.337097\n",
      "4  2024            16.812903\n"
     ]
    }
   ],
   "source": [
    "pysqldf = lambda q: sqldf(q, globals())\n",
    "\n",
    "query = \"\"\"\n",
    "\n",
    "    SELECT strftime('%Y',referenceTime) AS År,\n",
    "    AVG(\"mean(air_temperature P1D)\") AS avg_temperatur_juli\n",
    "    FROM df2\n",
    "    WHERE strftime('%m',referenceTime) = '07'\n",
    "    GROUP BY År\n",
    "\"\"\"\n",
    "resultat=pysqldf(query)\n",
    "print(resultat)"
   ]
  },
  {
   "cell_type": "code",
   "execution_count": 20,
   "metadata": {},
   "outputs": [
    {
     "name": "stdout",
     "output_type": "stream",
     "text": [
      "               referenceTime  mean(air_temperature P1D)  mean(relative_humidity P1D)  mean(wind_speed P1D)  sum(precipitation_amount P1D)\n",
      "0   2023-06-17T00:00:00.000Z                      24.60                         36.0                   1.9                           0.00\n",
      "1   2020-06-19T00:00:00.000Z                      24.15                         49.0                   2.7                           0.00\n",
      "2   2023-06-16T00:00:00.000Z                      24.00                         43.0                   2.2                           0.00\n",
      "3   2023-06-15T00:00:00.000Z                      23.55                         44.0                   1.7                           0.00\n",
      "4   2020-06-27T00:00:00.000Z                      23.50                         59.0                   1.8                           0.05\n",
      "5   2020-06-20T00:00:00.000Z                      23.35                         63.0                   3.2                           0.25\n",
      "6   2020-06-16T00:00:00.000Z                      23.30                         51.0                   3.0                           0.30\n",
      "7   2021-07-25T00:00:00.000Z                      22.85                         50.0                   2.2                           0.00\n",
      "8   2021-07-26T00:00:00.000Z                      22.80                         57.0                   3.4                           0.10\n",
      "9   2021-07-03T00:00:00.000Z                      22.75                         43.0                   2.1                           0.20\n",
      "10  2021-07-16T00:00:00.000Z                      22.75                         54.0                   3.0                           0.10\n",
      "11  2021-07-14T00:00:00.000Z                      22.70                         74.0                   2.9                           1.05\n",
      "12  2023-06-18T00:00:00.000Z                      22.45                         60.0                   3.5                           0.25\n",
      "13  2021-07-04T00:00:00.000Z                      22.40                         70.0                   2.2                           4.35\n",
      "14  2020-06-18T00:00:00.000Z                      22.25                         56.0                   1.8                           0.00\n",
      "15  2021-07-15T00:00:00.000Z                      22.10                         63.0                   2.4                           1.05\n",
      "16  2022-07-01T00:00:00.000Z                      22.10                         79.0                   2.5                           7.55\n",
      "17  2022-06-25T00:00:00.000Z                      22.05                         60.0                   2.5                           0.20\n",
      "18  2020-06-17T00:00:00.000Z                      22.00                         58.0                   2.3                           0.30\n",
      "19  2020-06-26T00:00:00.000Z                      21.95                         60.0                   2.5                           0.05\n",
      "20  2020-06-25T00:00:00.000Z                      21.85                         68.0                   2.4                           0.00\n",
      "21  2021-07-17T00:00:00.000Z                      21.80                         51.0                   2.7                           0.00\n",
      "22  2023-06-14T00:00:00.000Z                      21.80                         45.0                   1.8                           0.00\n",
      "23  2022-07-21T00:00:00.000Z                      21.75                         78.0                   1.5                           0.10\n",
      "24  2021-07-02T00:00:00.000Z                      21.40                         42.0                   2.4                           0.20\n",
      "25  2020-06-13T00:00:00.000Z                      21.35                         38.0                   3.6                           0.00\n",
      "26  2020-06-12T00:00:00.000Z                      21.30                         37.0                   3.9                           0.00\n",
      "27  2024-05-26T00:00:00.000Z                      21.30                         62.0                   3.4                           0.45\n",
      "28  2020-06-15T00:00:00.000Z                      21.25                         41.0                   2.1                           0.00\n",
      "29  2020-06-28T00:00:00.000Z                      21.20                         88.0                   1.9                          13.15\n",
      "30  2021-07-24T00:00:00.000Z                      21.20                         55.0                   2.0                           0.00\n",
      "31  2024-07-21T00:00:00.000Z                      21.10                         67.0                   2.0                           0.00\n",
      "32  2023-07-09T00:00:00.000Z                      21.05                         57.0                   1.8                           0.00\n",
      "33  2024-06-28T00:00:00.000Z                      21.05                         79.0                   4.5                          16.40\n",
      "34  2021-07-23T00:00:00.000Z                      21.00                         52.0                   2.1                           0.00\n",
      "35  2023-07-10T00:00:00.000Z                      20.95                         69.0                   1.9                           0.05\n",
      "36  2022-06-26T00:00:00.000Z                      20.90                         86.0                   1.8                           7.65\n",
      "37  2024-06-27T00:00:00.000Z                      20.90                         63.0                   2.3                           0.00\n",
      "38  2024-06-02T00:00:00.000Z                      20.85                         62.0                   2.7                           0.15\n",
      "39  2020-06-24T00:00:00.000Z                      20.80                         70.0                   2.2                           0.00\n",
      "40  2024-06-01T00:00:00.000Z                      20.80                         66.0                   2.0                           5.05\n",
      "41  2022-07-20T00:00:00.000Z                      20.65                         65.0                   2.5                           0.00\n",
      "42  2023-06-29T00:00:00.000Z                      20.60                         80.0                   2.8                           0.05\n",
      "43  2020-06-14T00:00:00.000Z                      20.45                         40.0                   2.1                           0.00\n",
      "44  2023-06-28T00:00:00.000Z                      20.45                         65.0                   2.9                           0.00\n",
      "45  2023-06-26T00:00:00.000Z                      20.40                         78.0                   1.9                           3.15\n",
      "46  2021-07-13T00:00:00.000Z                      20.30                         54.0                   2.0                           0.00\n",
      "47  2023-06-24T00:00:00.000Z                      20.30                         53.0                   2.8                           0.00\n",
      "48  2023-06-13T00:00:00.000Z                      20.25                         47.0                   1.6                           0.00\n",
      "49  2023-06-25T00:00:00.000Z                      20.25                         67.0                   2.3                           0.00\n",
      "50  2021-07-05T00:00:00.000Z                      20.20                         72.0                   2.7                           8.75\n",
      "51  2021-07-18T00:00:00.000Z                      20.20                         44.0                   3.1                           0.00\n",
      "52  2024-05-23T00:00:00.000Z                      20.10                         45.0                   3.8                           0.00\n",
      "53  2020-06-21T00:00:00.000Z                      20.05                         83.0                   2.4                           8.45\n",
      "54  2021-07-22T00:00:00.000Z                      20.00                         65.0                   2.3                           0.00\n",
      "55  2024-07-22T00:00:00.000Z                      20.00                         92.0                   1.5                           6.55\n"
     ]
    }
   ],
   "source": [
    "query2=\"\"\"\n",
    "    SELECT * FROM df2\n",
    "    WHERE \"mean(air_temperature P1D)\">=20.0\n",
    "    ORDER BY \"mean(air_temperature P1D)\" DESC;\n",
    "\"\"\"\n",
    "resultat=pysqldf(query2)\n",
    "print(resultat)"
   ]
  }
 ],
 "metadata": {
  "kernelspec": {
   "display_name": "venvP",
   "language": "python",
   "name": "python3"
  },
  "language_info": {
   "codemirror_mode": {
    "name": "ipython",
    "version": 3
   },
   "file_extension": ".py",
   "mimetype": "text/x-python",
   "name": "python",
   "nbconvert_exporter": "python",
   "pygments_lexer": "ipython3",
   "version": "3.13.1"
  }
 },
 "nbformat": 4,
 "nbformat_minor": 2
}
