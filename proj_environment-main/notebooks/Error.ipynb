{
 "cells": [
  {
   "cell_type": "markdown",
   "id": "b4e222e4",
   "metadata": {},
   "source": [
    "## Introduksjon av feil/errors i dataframes og retting av feil/errors\n",
    "\n",
    "Værdataen vi har samlet er komplett, og inneholder ikke uteliggere, feilverdier eller lignende. Luftkvalitetdataen har en god del \"null\" verdier, men ellers er den ryddig også. Vi kan derfor manuelt introdusere diverse feil i datasettene og rette de opp igjen ved bruk av funksjoner fra numpy for eksempel. \n",
    "\n",
    "Vi lagrer de nye datasettene med feil i data folderen, og bruker nye funksjoner til å rette opp i det igjen. Merk at for Værdataen, kommer vi til å bruke den originale dataen (df2_data) til visualisering og prediktiv analyse, mens for luftkvalitetdataen vil vi bruke den rettet opp filen (df1_fikset), ettersom den originale inneholder nullverdier. "
   ]
  },
  {
   "cell_type": "markdown",
   "id": "97afb611",
   "metadata": {},
   "source": [
    "Vi begynner med å introdusere forskjellige typer feilverdier til værdataen (df2_data): "
   ]
  },
  {
   "cell_type": "code",
   "execution_count": 8,
   "id": "5efb0704",
   "metadata": {},
   "outputs": [],
   "source": [
    "import pandas as pd\n",
    "import sys\n",
    "\n",
    "df2_errors = pd.read_json(\"../data/df2_data.json\") #leser json filen \"df2_data\"\n",
    "\n",
    "sys.path.append('../src')\n",
    "from funksjoner import introduser_NaN, introduser_uteliggere #Importerer funksjoner fra \"funksjoner.py i src\"\n",
    "\n",
    "nan = introduser_NaN(df2_errors) #Introduserer numpy NaN verdier\n",
    "uteligger = introduser_uteliggere(nan) #Introduserer uteliggere\n",
    "\n",
    "uteligger.to_json('../data/df2_errors.json', indent=4) #Lagrer den nye dataframe med errors til ny fil \"df2_errors.json\""
   ]
  },
  {
   "cell_type": "markdown",
   "id": "6b409f8b",
   "metadata": {},
   "source": [
    "Nå har vi værdata med manglende verdier og uteliggere, som vi kan så rette opp i ved bruk av diverse teknikker: \n",
    "\n",
    "Vi kan bruke ffill, bfill, median, mean og interpolate til å fikse på manglende verdier, og setter øvre og nedre grenser for å håndtere uteliggere. "
   ]
  },
  {
   "cell_type": "code",
   "execution_count": null,
   "id": "5c7602c9",
   "metadata": {},
   "outputs": [
    {
     "ename": "ImportError",
     "evalue": "cannot import name 'håndter_uteliggere' from 'funksjoner' (/Users/andre/Documents/Anvendt Programmering/Repo Clone/Miljoeanalyse/proj_environment-main/notebooks/../src/funksjoner.py)",
     "output_type": "error",
     "traceback": [
      "\u001b[31m---------------------------------------------------------------------------\u001b[39m",
      "\u001b[31mImportError\u001b[39m                               Traceback (most recent call last)",
      "\u001b[36mCell\u001b[39m\u001b[36m \u001b[39m\u001b[32mIn[11]\u001b[39m\u001b[32m, line 2\u001b[39m\n\u001b[32m      1\u001b[39m sys.path.append(\u001b[33m'\u001b[39m\u001b[33m../src\u001b[39m\u001b[33m'\u001b[39m)\n\u001b[32m----> \u001b[39m\u001b[32m2\u001b[39m \u001b[38;5;28;01mfrom\u001b[39;00m\u001b[38;5;250m \u001b[39m\u001b[34;01mfunksjoner\u001b[39;00m\u001b[38;5;250m \u001b[39m\u001b[38;5;28;01mimport\u001b[39;00m håndter_uteliggere, håndter_mangler\n\u001b[32m      4\u001b[39m df2_fikset=pd.read_json(\u001b[33m\"\u001b[39m\u001b[33m../data/df2_errors.json\u001b[39m\u001b[33m\"\u001b[39m) \u001b[38;5;66;03m#Leser json filen \"df2_errors\"\u001b[39;00m\n\u001b[32m      6\u001b[39m mangler=håndter_mangler(df2_fikset,\u001b[33m\"\u001b[39m\u001b[33mmean(relative_humidity P1D)\u001b[39m\u001b[33m\"\u001b[39m,\u001b[33m\"\u001b[39m\u001b[33mmean\u001b[39m\u001b[33m\"\u001b[39m)\n",
      "\u001b[31mImportError\u001b[39m: cannot import name 'håndter_uteliggere' from 'funksjoner' (/Users/andre/Documents/Anvendt Programmering/Repo Clone/Miljoeanalyse/proj_environment-main/notebooks/../src/funksjoner.py)"
     ]
    }
   ],
   "source": [
    "from funksjoner import håndter_uteliggere, håndter_mangler\n",
    "\n",
    "df2_fikset=pd.read_json(\"../data/df2_errors.json\") #Leser json filen \"df2_errors\"\n",
    "\n",
    "mangler=håndter_mangler(df2_fikset,\"mean(relative_humidity P1D)\",\"mean\")\n",
    "\n",
    "øvre_grense=60\n",
    "nedre_grense=-25\n",
    "uteliggere=håndter_uteliggere(mangler,\"mean(air_temperature P1D)\",øvre_grense,nedre_grense)\n",
    "\n",
    "uteliggere.to_json('../data/df2_fikset.json',indent=4)\n",
    "\n"
   ]
  }
 ],
 "metadata": {
  "kernelspec": {
   "display_name": "venvP",
   "language": "python",
   "name": "python3"
  },
  "language_info": {
   "codemirror_mode": {
    "name": "ipython",
    "version": 3
   },
   "file_extension": ".py",
   "mimetype": "text/x-python",
   "name": "python",
   "nbconvert_exporter": "python",
   "pygments_lexer": "ipython3",
   "version": "3.13.3"
  }
 },
 "nbformat": 4,
 "nbformat_minor": 5
}
