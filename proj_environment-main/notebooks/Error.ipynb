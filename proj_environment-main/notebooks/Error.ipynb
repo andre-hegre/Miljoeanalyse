{
 "cells": [
  {
   "cell_type": "markdown",
   "id": "b4e222e4",
   "metadata": {},
   "source": [
    "## Visualisering: "
   ]
  }
 ],
 "metadata": {
  "language_info": {
   "name": "python"
  }
 },
 "nbformat": 4,
 "nbformat_minor": 5
}
