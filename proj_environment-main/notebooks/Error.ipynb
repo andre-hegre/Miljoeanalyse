{
 "cells": [
  {
   "cell_type": "markdown",
   "id": "b4e222e4",
   "metadata": {},
   "source": [
    "## Vi kan introdusere uregelmessigheter til værdata ved diverse funksjoner\n",
    "\n",
    "Værdataen vi har samlet er nokså fullstendig, og uten feilverdier, men ved bruk av enkelte funksjoner kan vi introdusere noen feil, for så å rette de opp igjen etterpå: "
   ]
  },
  {
   "cell_type": "code",
   "execution_count": null,
   "id": "5efb0704",
   "metadata": {},
   "outputs": [],
   "source": [
    "import pandas as pd\n",
    "import numpy as np\n",
    "\n",
    "df2_errors = pd.read_json(\"../data/df2_data.json\") #leser json filen til \"df2\"\n",
    "\n",
    "# introduserer uregelmessigheter (NaN til omtrent 6% av verdiene i mean(relative_humidity P1D))\n",
    "def introduser_NaN(entry):\n",
    "    entry.loc[entry.sample(frac=0.06).index, 'mean(relative_humidity P1D)'] = np.nan \n",
    "    return entry\n",
    "\n",
    "# introduserer enkelte tallverdier på 570, som ikke gir mening (uteliggere)\n",
    "def introduser_uteliggere(entry):\n",
    "    entry.loc[entry.sample(frac=0.04).index, 'mean(air_temperature P1D)'] = 570\n",
    "    return df2_errors\n",
    "\n",
    "#Kjører funksjonene og lagrer til ny fil\n",
    "nan=introduser_NaN(df2_errors)\n",
    "uteligger=introduser_uteliggere(nan)\n",
    "\n",
    "\n",
    "\n",
    "uteligger.to_json('../data/df2_errors.json',indent=4)"
   ]
  }
 ],
 "metadata": {
  "kernelspec": {
   "display_name": "venvP",
   "language": "python",
   "name": "python3"
  },
  "language_info": {
   "name": "python",
   "version": "3.13.3"
  }
 },
 "nbformat": 4,
 "nbformat_minor": 5
}
