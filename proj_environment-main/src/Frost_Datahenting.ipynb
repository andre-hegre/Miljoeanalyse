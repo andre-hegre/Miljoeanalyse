{
 "cells": [
  {
   "cell_type": "markdown",
   "metadata": {},
   "source": [
    "## Henter inn data ved bruk av Frost gjennom meterologisk institutt"
   ]
  },
  {
   "cell_type": "code",
   "execution_count": 31,
   "metadata": {},
   "outputs": [
    {
     "name": "stdout",
     "output_type": "stream",
     "text": [
      "Data retrieved from frost.met.no!\n"
     ]
    }
   ],
   "source": [
    "import requests\n",
    "import pandas as pd\n",
    "import json\n",
    "\n",
    "client_id = \"cf8bace0-5c55-44ed-a5d3-3abe362045e6\"\n",
    "\n",
    "# Definerer \"endpoint\" og parametere\n",
    "endpoint = 'https://frost.met.no/observations/v0.jsonld'\n",
    "parameters = {\n",
    "    'sources': 'SN18700',\n",
    "    'elements': 'mean(relative_humidity P1D),boolean_clear_sky_weather(cloud_area_fraction P1D),mean(air_temperature P1D)',\n",
    "    'referencetime': 'R3/2020-07-01/2020-08-01/P1Y',\n",
    "}\n",
    "# GET request\n",
    "r = requests.get(endpoint, params=parameters, auth=(client_id,''))\n",
    "\n",
    "\n",
    "\n",
    "# Eventuelle feilmeldinger\n",
    "if r.status_code == 200:\n",
    "    print('Data retrieved from frost.met.no!')\n",
    "else:\n",
    "    print('Error! Returned status code %s' % r.status_code)\n",
    "    error_data = r.json()\n",
    "    print('Message: %s' % error_data.get('error', {}).get('message', 'No message'))\n",
    "    print('Reason: %s' % error_data.get('error', {}).get('reason', 'No reason'))\n",
    "\n",
    "\n",
    "# Sender data til fil i folder \"data\"\n",
    "with open(\"/Users/andre/Documents/Anvendt Programmering/Repo Clone/Miljoeanalyse/proj_environment-main/data/Frost_Observations\",\"w\") as fil:\n",
    "    json.dump(r.json(),fil,indent=4)\n",
    "\n"
   ]
  }
 ],
 "metadata": {
  "kernelspec": {
   "display_name": "venvP",
   "language": "python",
   "name": "python3"
  },
  "language_info": {
   "codemirror_mode": {
    "name": "ipython",
    "version": 3
   },
   "file_extension": ".py",
   "mimetype": "text/x-python",
   "name": "python",
   "nbconvert_exporter": "python",
   "pygments_lexer": "ipython3",
   "version": "3.13.1"
  }
 },
 "nbformat": 4,
 "nbformat_minor": 2
}
