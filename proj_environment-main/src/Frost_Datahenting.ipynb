{
 "cells": [
  {
   "cell_type": "markdown",
   "metadata": {},
   "source": [
    "## Henter inn data ved bruk av Frost gjennom meterologisk institutt"
   ]
  },
  {
   "cell_type": "code",
   "execution_count": 1,
   "metadata": {},
   "outputs": [
    {
     "name": "stdout",
     "output_type": "stream",
     "text": [
      "Data retrieved from frost.met.no!\n"
     ]
    }
   ],
   "source": [
    "import requests\n",
    "import pandas as pd\n",
    "import json\n",
    "from pathlib import Path\n",
    "\n",
    "\n",
    "# Definerer hvor filen skal ligge, uten bruk av spesifikk file_path til individuell pc\n",
    "base_path = Path.cwd()\n",
    "\n",
    "# Finner fram til data folderen\n",
    "repo_root = Path.cwd().parent\n",
    "data_folder = repo_root / 'data'\n",
    "data_folder.mkdir(exist_ok=True)\n",
    "\n",
    "client_id = \"cf8bace0-5c55-44ed-a5d3-3abe362045e6\"\n",
    "\n",
    "# Definerer \"endpoint\" og parametere\n",
    "endpoint = 'https://frost.met.no/observations/v0.jsonld'\n",
    "parameters = {\n",
    "    'sources': 'SN18700',\n",
    "    'elements': 'mean(relative_humidity P1D),sum(precipitation_amount P1D),mean(wind_speed P1D),mean(air_temperature P1D)',\n",
    "    'referencetime': 'R5/2020-04-01/2020-08-01/P1Y',\n",
    "}\n",
    "# GET request\n",
    "r = requests.get(endpoint, params=parameters, auth=(client_id,''))\n",
    "\n",
    "\n",
    "\n",
    "# Eventuelle feilmeldinger\n",
    "if r.status_code == 200:\n",
    "    print('Data retrieved from frost.met.no!')\n",
    "else:\n",
    "    print('Error! Returned status code %s' % r.status_code)\n",
    "    error_data = r.json()\n",
    "    print('Message: %s' % error_data.get('error', {}).get('message', 'No message'))\n",
    "    print('Reason: %s' % error_data.get('error', {}).get('reason', 'No reason'))\n",
    "\n",
    "\n",
    "data=r.json()\n",
    "save_path = data_folder / 'Frost_Observations.json'\n",
    "with open(save_path, 'w', encoding='utf-8') as f:\n",
    "    json.dump(data, f, indent=4)\n"
   ]
  },
  {
   "cell_type": "code",
   "execution_count": null,
   "metadata": {},
   "outputs": [],
   "source": []
  }
 ],
 "metadata": {
  "kernelspec": {
   "display_name": ".venv",
   "language": "python",
   "name": "python3"
  },
  "language_info": {
   "codemirror_mode": {
    "name": "ipython",
    "version": 3
   },
   "file_extension": ".py",
   "mimetype": "text/x-python",
   "name": "python",
   "nbconvert_exporter": "python",
   "pygments_lexer": "ipython3",
   "version": "3.13.2"
  }
 },
 "nbformat": 4,
 "nbformat_minor": 2
}
