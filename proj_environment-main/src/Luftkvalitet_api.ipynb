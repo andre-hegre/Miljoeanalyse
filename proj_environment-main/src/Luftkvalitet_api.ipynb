{
 "cells": [
  {
   "cell_type": "markdown",
   "metadata": {},
   "source": [
    "## Her vil vi hente data om luftkvalitet fra samme område i Oslo\n"
   ]
  },
  {
   "cell_type": "code",
   "execution_count": null,
   "metadata": {},
   "outputs": [
    {
     "name": "stdout",
     "output_type": "stream",
     "text": [
      "Data saved to: /Users/andre/Documents/Anvendt Programmering/Repo Clone/Miljoeanalyse/proj_environment-main/data/luftkvalitet_data.json\n"
     ]
    }
   ],
   "source": [
    "import requests\n",
    "import json\n",
    "from pathlib import Path\n",
    "\n",
    "\n",
    "base_path = Path.cwd()\n",
    "\n",
    "# Finner fram til data folder\n",
    "repo_root = Path.cwd().parent\n",
    "data_folder = repo_root / 'data'\n",
    "data_folder.mkdir(exist_ok=True)\n",
    "\n",
    "station_code = \"Kirkeveien\"\n",
    "from_date = \"2023-07-01\"\n",
    "to_date = \"2023-08-01\"\n",
    "\n",
    "url = f\"https://api.nilu.no/agg/2/{from_date}/{to_date}/{station_code}\"\n",
    "\n",
    "\n",
    "response = requests.get(url)\n",
    "\n",
    "if response.status_code == 200:\n",
    "   data = response.json()\n",
    "   save_path = data_folder / 'luftkvalitet_data.json'\n",
    "   with open(save_path, 'w', encoding='utf-8') as f:\n",
    "        json.dump(data, f, indent=4)\n",
    "        print(f\"Data saved to: {save_path}\")\n",
    "else:\n",
    "    print(\"Error:\", response.status_code, response.text)\n",
    "\n",
    "\n",
    "\n",
    "\n"
   ]
  }
 ],
 "metadata": {
  "kernelspec": {
   "display_name": "venvP",
   "language": "python",
   "name": "python3"
  },
  "language_info": {
   "codemirror_mode": {
    "name": "ipython",
    "version": 3
   },
   "file_extension": ".py",
   "mimetype": "text/x-python",
   "name": "python",
   "nbconvert_exporter": "python",
   "pygments_lexer": "ipython3",
   "version": "3.13.1"
  }
 },
 "nbformat": 4,
 "nbformat_minor": 2
}
