{
 "cells": [
  {
   "cell_type": "markdown",
   "metadata": {},
   "source": [
    "## Her vil vi hente data om luftkvalitet fra samme område i Oslo\n",
    "\n",
    "nilu.no har ikke samme funksjon som lar oss direkte hente data over samme periode, så vi må loope gjennom årene og forlenge filen manuelt for å få samme data for samme datoene\n"
   ]
  },
  {
   "cell_type": "code",
   "execution_count": null,
   "metadata": {},
   "outputs": [],
   "source": [
    "import requests\n",
    "import json\n",
    "from pathlib import Path\n",
    "\n",
    "\n",
    "base_path = Path.cwd()\n",
    "\n",
    "# Finner fram til data folder\n",
    "repo_root = Path.cwd().parent\n",
    "data_folder = repo_root / 'data'\n",
    "data_folder.mkdir(exist_ok=True)\n",
    "\n",
    "# Parametere\n",
    "station_code = \"Kirkeveien\"\n",
    "start_month = \"04-01\"\n",
    "end_month = \"08-01\"\n",
    "years=[2020,2021,2022,2023,2024]\n",
    "\n",
    "all_data = []\n",
    "\n",
    "# Looper år for år og legger til filen\n",
    "for year in years:\n",
    "    from_date = f\"{year}-{start_month}\"\n",
    "    to_date = f\"{year}-{end_month}\"\n",
    "    url = f\"https://api.nilu.no/agg/2/{from_date}/{to_date}/{station_code}\"\n",
    "\n",
    "    response = requests.get(url)\n",
    "    \n",
    "    if response.status_code == 200:\n",
    "        year_data = response.json()\n",
    "        all_data.extend(year_data)  # Legger til data for dette året\n",
    "        print(f\"Fetched data for {year} ({len(year_data)} records)\")\n",
    "    else:\n",
    "        print(f\"Error for {year}: {response.status_code}, {response.text}\")\n",
    "\n",
    "# Lagrer hele saken på en fil\n",
    "save_path = data_folder / f'luftkvalitet_{station_code}_all_years.json'\n",
    "with open(save_path, 'w', encoding='utf-8') as f:\n",
    "    json.dump(all_data, f, indent=4)\n",
    "    print(f\"\\n All data saved to: {save_path}\")\n",
    "\n",
    "\n",
    "\n",
    "\n"
   ]
  }
 ],
 "metadata": {
  "kernelspec": {
   "display_name": "venvP",
   "language": "python",
   "name": "python3"
  },
  "language_info": {
   "codemirror_mode": {
    "name": "ipython",
    "version": 3
   },
   "file_extension": ".py",
   "mimetype": "text/x-python",
   "name": "python",
   "nbconvert_exporter": "python",
   "pygments_lexer": "ipython3",
   "version": "3.13.1"
  }
 },
 "nbformat": 4,
 "nbformat_minor": 2
}
